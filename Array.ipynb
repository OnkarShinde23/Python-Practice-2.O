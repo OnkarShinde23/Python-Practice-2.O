{
 "cells": [
  {
   "cell_type": "markdown",
   "id": "bd20aa24",
   "metadata": {},
   "source": [
    "### Array\n",
    "\n",
    "Array is set of data values ,it contains number of data items,these data items should be same datatypes.\n",
    "Array can be increases or decreases ."
   ]
  },
  {
   "cell_type": "code",
   "execution_count": 1,
   "id": "96d86b71",
   "metadata": {},
   "outputs": [],
   "source": [
    "A =[1,3,5,44] #This is Array"
   ]
  },
  {
   "cell_type": "code",
   "execution_count": 2,
   "id": "1c88f64b",
   "metadata": {},
   "outputs": [],
   "source": [
    "B=[1,34,4.4,\"Onkar\"]#This is List"
   ]
  },
  {
   "cell_type": "markdown",
   "id": "7dc10d98",
   "metadata": {},
   "source": [
    "###### Element \n",
    "\n",
    "Each data item is present in array is called element."
   ]
  },
  {
   "cell_type": "markdown",
   "id": "aaee3de7",
   "metadata": {},
   "source": [
    "###### Index\n",
    "\n",
    "Position of element in array is called as Index"
   ]
  },
  {
   "cell_type": "code",
   "execution_count": null,
   "id": "a608e235",
   "metadata": {},
   "outputs": [],
   "source": []
  }
 ],
 "metadata": {
  "kernelspec": {
   "display_name": "Python 3",
   "language": "python",
   "name": "python3"
  },
  "language_info": {
   "codemirror_mode": {
    "name": "ipython",
    "version": 3
   },
   "file_extension": ".py",
   "mimetype": "text/x-python",
   "name": "python",
   "nbconvert_exporter": "python",
   "pygments_lexer": "ipython3",
   "version": "3.8.8"
  }
 },
 "nbformat": 4,
 "nbformat_minor": 5
}
