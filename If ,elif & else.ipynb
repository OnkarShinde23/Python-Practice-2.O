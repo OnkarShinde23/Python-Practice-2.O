{
 "cells": [
  {
   "cell_type": "raw",
   "id": "77b08fb3",
   "metadata": {},
   "source": [
    "\n",
    "\n",
    "if [\"Condition\"]:\n",
    "    [\"Statement\"]\n",
    "elif[\"Condition\"]:\n",
    "    [\"Statement\"]\n",
    "else[]:\n",
    "    [\"Statement when if & else statement are false\"]"
   ]
  },
  {
   "cell_type": "code",
   "execution_count": 1,
   "id": "16ed0254",
   "metadata": {},
   "outputs": [
    {
     "name": "stdout",
     "output_type": "stream",
     "text": [
      "enter number11\n"
     ]
    }
   ],
   "source": [
    "A=int(input(\"enter number\"))"
   ]
  },
  {
   "cell_type": "code",
   "execution_count": 2,
   "id": "cdeb66f6",
   "metadata": {},
   "outputs": [
    {
     "data": {
      "text/plain": [
       "int"
      ]
     },
     "execution_count": 2,
     "metadata": {},
     "output_type": "execute_result"
    }
   ],
   "source": [
    "type(A)"
   ]
  },
  {
   "cell_type": "code",
   "execution_count": 3,
   "id": "903d0d84",
   "metadata": {},
   "outputs": [
    {
     "name": "stdout",
     "output_type": "stream",
     "text": [
      "10\n",
      "Even Number\n"
     ]
    }
   ],
   "source": [
    "x=int(input())\n",
    "\n",
    "if x%2==0:\n",
    "    print(\"Even Number\")\n",
    "else:\n",
    "    print(\"Odd number\")"
   ]
  },
  {
   "cell_type": "code",
   "execution_count": 4,
   "id": "d1c6658c",
   "metadata": {},
   "outputs": [
    {
     "name": "stdout",
     "output_type": "stream",
     "text": [
      "91\n",
      "Distinction\n"
     ]
    }
   ],
   "source": [
    "Per=int(input())\n",
    "\n",
    "if Per>=75:\n",
    "    print(\"Distinction\")\n",
    "elif Per>=60:\n",
    "    print(\"First class\")\n",
    "elif Per>=50:\n",
    "    print(\"Second class\")\n",
    "elif Per>=35:\n",
    "    print(\"Third class\")\n",
    "else:\n",
    "    print(\"Fail\")"
   ]
  },
  {
   "cell_type": "code",
   "execution_count": 5,
   "id": "567cd7dc",
   "metadata": {},
   "outputs": [
    {
     "name": "stdout",
     "output_type": "stream",
     "text": [
      "23\n",
      "You are eligible for admission\n"
     ]
    }
   ],
   "source": [
    "Age=int(input())\n",
    "\n",
    "if Age>=18:\n",
    "    print(\"You are eligible for admission\")\n",
    "else:\n",
    "    print(\"You are not eligible\")"
   ]
  },
  {
   "cell_type": "code",
   "execution_count": 6,
   "id": "78dc370e",
   "metadata": {},
   "outputs": [
    {
     "name": "stdout",
     "output_type": "stream",
     "text": [
      "25\n",
      "You are a adult\n"
     ]
    }
   ],
   "source": [
    "age=int(input())\n",
    "\n",
    "if age<=12:\n",
    "    print(\"You are a child\")\n",
    "elif age<=18:\n",
    "    print(\"You are a teenager\")\n",
    "elif age<=25:\n",
    "    print(\"You are a adult\")\n",
    "else:\n",
    "    print(\"You are a Matured\")"
   ]
  },
  {
   "cell_type": "code",
   "execution_count": null,
   "id": "41a63d88",
   "metadata": {},
   "outputs": [],
   "source": []
  },
  {
   "cell_type": "code",
   "execution_count": null,
   "id": "104a1110",
   "metadata": {},
   "outputs": [],
   "source": []
  },
  {
   "cell_type": "code",
   "execution_count": null,
   "id": "cb781128",
   "metadata": {},
   "outputs": [],
   "source": []
  }
 ],
 "metadata": {
  "kernelspec": {
   "display_name": "Python 3",
   "language": "python",
   "name": "python3"
  },
  "language_info": {
   "codemirror_mode": {
    "name": "ipython",
    "version": 3
   },
   "file_extension": ".py",
   "mimetype": "text/x-python",
   "name": "python",
   "nbconvert_exporter": "python",
   "pygments_lexer": "ipython3",
   "version": "3.8.8"
  }
 },
 "nbformat": 4,
 "nbformat_minor": 5
}
