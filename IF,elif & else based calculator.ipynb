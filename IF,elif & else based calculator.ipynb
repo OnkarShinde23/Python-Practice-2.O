{
 "cells": [
  {
   "cell_type": "code",
   "execution_count": 6,
   "id": "0debec25",
   "metadata": {},
   "outputs": [
    {
     "name": "stdout",
     "output_type": "stream",
     "text": [
      "90\n",
      "2\n",
      "*\n",
      "180\n"
     ]
    }
   ],
   "source": [
    "Num1=int(input())\n",
    "Num2=int(input())\n",
    "Operator=input()\n",
    "\n",
    "if Operator==\"+\":\n",
    "    print(Num1+Num2)\n",
    "elif Operator==\"-\":\n",
    "    print(Num1-Num2)\n",
    "elif Operator==\"*\":\n",
    "    print(Num1*Num2)\n",
    "elif Operator==\"/\":\n",
    "    print(Num1/Num2)\n",
    "else:\n",
    "    print(\"Invalid operation\")\n",
    "\n"
   ]
  },
  {
   "cell_type": "code",
   "execution_count": null,
   "id": "02fa8340",
   "metadata": {},
   "outputs": [],
   "source": []
  }
 ],
 "metadata": {
  "kernelspec": {
   "display_name": "Python 3",
   "language": "python",
   "name": "python3"
  },
  "language_info": {
   "codemirror_mode": {
    "name": "ipython",
    "version": 3
   },
   "file_extension": ".py",
   "mimetype": "text/x-python",
   "name": "python",
   "nbconvert_exporter": "python",
   "pygments_lexer": "ipython3",
   "version": "3.8.8"
  }
 },
 "nbformat": 4,
 "nbformat_minor": 5
}
