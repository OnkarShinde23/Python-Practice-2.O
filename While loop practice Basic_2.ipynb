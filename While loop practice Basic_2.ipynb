{
 "cells": [
  {
   "cell_type": "code",
   "execution_count": 1,
   "id": "f0bbe91d",
   "metadata": {},
   "outputs": [
    {
     "name": "stdout",
     "output_type": "stream",
     "text": [
      "Hello\n",
      "Hello\n",
      "Hello\n",
      "Hello\n",
      "Hello\n"
     ]
    }
   ],
   "source": [
    "n=5\n",
    "i=1\n",
    "\n",
    "while i<=n:\n",
    "    print(\"Hello\")\n",
    "    i=i+1\n",
    "    \n",
    "    \n",
    "    "
   ]
  },
  {
   "cell_type": "code",
   "execution_count": 2,
   "id": "b9d27129",
   "metadata": {},
   "outputs": [
    {
     "name": "stdout",
     "output_type": "stream",
     "text": [
      "3\n",
      "4\n",
      "5\n",
      "6\n",
      "7\n",
      "8\n",
      "9\n",
      "10\n"
     ]
    }
   ],
   "source": [
    "n=10\n",
    "i=3\n",
    "\n",
    "while i<=n:\n",
    "    print(i)\n",
    "    i=i+1\n",
    "    "
   ]
  },
  {
   "cell_type": "raw",
   "id": "b826e90a",
   "metadata": {},
   "source": [
    "Means whenever program runs in loop,if i = 3 & condition is i=i+1 ,then program will run as follows:\n",
    "i=3\n",
    "i=3+1=4\n",
    "i=4+1=5\n",
    "i=5+1=6\n",
    "i=6+1=7\n",
    "So on....\n",
    "\n",
    "Hence we can say that first value of i(Variable i.e i=3) will constant always after that further condition will be proceed."
   ]
  },
  {
   "cell_type": "code",
   "execution_count": 8,
   "id": "8f66ac49",
   "metadata": {},
   "outputs": [
    {
     "name": "stdout",
     "output_type": "stream",
     "text": [
      "4\n",
      "9\n"
     ]
    }
   ],
   "source": [
    "n=10\n",
    "A=4\n",
    "while A<=n:\n",
    "    print(A)\n",
    "    A=A+5"
   ]
  },
  {
   "cell_type": "code",
   "execution_count": 10,
   "id": "6c69c5f7",
   "metadata": {},
   "outputs": [
    {
     "name": "stdout",
     "output_type": "stream",
     "text": [
      "7\n",
      "10\n",
      "13\n",
      "16\n",
      "19\n"
     ]
    }
   ],
   "source": [
    "n=20\n",
    "Z=7\n",
    "\n",
    "while Z<=n:\n",
    "    print(Z)\n",
    "    Z=Z+3"
   ]
  },
  {
   "cell_type": "code",
   "execution_count": 11,
   "id": "57f1ed3f",
   "metadata": {},
   "outputs": [
    {
     "name": "stdout",
     "output_type": "stream",
     "text": [
      "31\n",
      "34\n",
      "37\n",
      "40\n",
      "43\n",
      "46\n",
      "49\n"
     ]
    }
   ],
   "source": [
    "n=50\n",
    "X=31\n",
    "\n",
    "while X<=n:\n",
    "    print(X)\n",
    "    X=X+3"
   ]
  },
  {
   "cell_type": "raw",
   "id": "1ee267cc",
   "metadata": {},
   "source": [
    "Means whenever program runs in loop,if X = 31 & condition is X=X+1 ,then program will run as follows:\n",
    "X=31\n",
    "X=X+3=34\n",
    "X=34+3=37\n",
    "X=37+3=40\n",
    "X=40+3=43\n",
    "X=43+3=46\n",
    "X=46+3=49\n",
    "So on....\n",
    "\n",
    "Hence we can say that first value of X(Variable i.e X=31) will constant always after that further condition will be proceed."
   ]
  },
  {
   "cell_type": "code",
   "execution_count": null,
   "id": "e9eb0f23",
   "metadata": {},
   "outputs": [],
   "source": []
  }
 ],
 "metadata": {
  "kernelspec": {
   "display_name": "Python 3",
   "language": "python",
   "name": "python3"
  },
  "language_info": {
   "codemirror_mode": {
    "name": "ipython",
    "version": 3
   },
   "file_extension": ".py",
   "mimetype": "text/x-python",
   "name": "python",
   "nbconvert_exporter": "python",
   "pygments_lexer": "ipython3",
   "version": "3.8.8"
  }
 },
 "nbformat": 4,
 "nbformat_minor": 5
}
