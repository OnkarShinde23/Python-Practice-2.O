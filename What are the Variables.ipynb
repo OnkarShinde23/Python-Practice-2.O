{
 "cells": [
  {
   "cell_type": "markdown",
   "id": "d6e8bfdf",
   "metadata": {},
   "source": [
    "###### Rule 1 : Variable Starts Only from letters but can be contains Numbers."
   ]
  },
  {
   "cell_type": "code",
   "execution_count": 17,
   "id": "3662a12f",
   "metadata": {},
   "outputs": [],
   "source": [
    "name=\"Onkar\""
   ]
  },
  {
   "cell_type": "code",
   "execution_count": 18,
   "id": "14ee5cd3",
   "metadata": {},
   "outputs": [
    {
     "data": {
      "text/plain": [
       "'Onkar'"
      ]
     },
     "execution_count": 18,
     "metadata": {},
     "output_type": "execute_result"
    }
   ],
   "source": [
    "name"
   ]
  },
  {
   "cell_type": "code",
   "execution_count": 19,
   "id": "56c65cb4",
   "metadata": {},
   "outputs": [],
   "source": [
    "King=\"Shivaji Maharaj\""
   ]
  },
  {
   "cell_type": "code",
   "execution_count": 20,
   "id": "6ae7fa7b",
   "metadata": {},
   "outputs": [
    {
     "data": {
      "text/plain": [
       "'Shivaji Maharaj'"
      ]
     },
     "execution_count": 20,
     "metadata": {},
     "output_type": "execute_result"
    }
   ],
   "source": [
    "King"
   ]
  },
  {
   "cell_type": "code",
   "execution_count": 24,
   "id": "eca34f64",
   "metadata": {},
   "outputs": [],
   "source": [
    "Name1 = \"Om\""
   ]
  },
  {
   "cell_type": "code",
   "execution_count": 25,
   "id": "de2caba7",
   "metadata": {},
   "outputs": [
    {
     "data": {
      "text/plain": [
       "'Om'"
      ]
     },
     "execution_count": 25,
     "metadata": {},
     "output_type": "execute_result"
    }
   ],
   "source": [
    "Name1"
   ]
  },
  {
   "cell_type": "code",
   "execution_count": 23,
   "id": "ece09123",
   "metadata": {},
   "outputs": [
    {
     "ename": "SyntaxError",
     "evalue": "invalid syntax (<ipython-input-23-e0dff98043d3>, line 1)",
     "output_type": "error",
     "traceback": [
      "\u001b[1;36m  File \u001b[1;32m\"<ipython-input-23-e0dff98043d3>\"\u001b[1;36m, line \u001b[1;32m1\u001b[0m\n\u001b[1;33m    1Surname = \"Shinde\"\u001b[0m\n\u001b[1;37m     ^\u001b[0m\n\u001b[1;31mSyntaxError\u001b[0m\u001b[1;31m:\u001b[0m invalid syntax\n"
     ]
    }
   ],
   "source": [
    "1Surname = \"Shinde\""
   ]
  },
  {
   "cell_type": "code",
   "execution_count": 26,
   "id": "7c2fee28",
   "metadata": {},
   "outputs": [
    {
     "ename": "SyntaxError",
     "evalue": "invalid syntax (<ipython-input-26-3628f5002279>, line 1)",
     "output_type": "error",
     "traceback": [
      "\u001b[1;36m  File \u001b[1;32m\"<ipython-input-26-3628f5002279>\"\u001b[1;36m, line \u001b[1;32m1\u001b[0m\n\u001b[1;33m    1Name=\"OM\"\u001b[0m\n\u001b[1;37m     ^\u001b[0m\n\u001b[1;31mSyntaxError\u001b[0m\u001b[1;31m:\u001b[0m invalid syntax\n"
     ]
    }
   ],
   "source": [
    "1Name=\"OM\""
   ]
  },
  {
   "cell_type": "markdown",
   "id": "8ece60cf",
   "metadata": {},
   "source": [
    "###### Rule 2 : Variables are case sensitive"
   ]
  },
  {
   "cell_type": "code",
   "execution_count": 28,
   "id": "15d7e2e7",
   "metadata": {},
   "outputs": [],
   "source": [
    "Age=13\n",
    "age=22\n",
    "AGE=33"
   ]
  },
  {
   "cell_type": "code",
   "execution_count": 29,
   "id": "2cd19823",
   "metadata": {},
   "outputs": [
    {
     "data": {
      "text/plain": [
       "13"
      ]
     },
     "execution_count": 29,
     "metadata": {},
     "output_type": "execute_result"
    }
   ],
   "source": [
    "Age"
   ]
  },
  {
   "cell_type": "code",
   "execution_count": 30,
   "id": "e65374ba",
   "metadata": {},
   "outputs": [
    {
     "data": {
      "text/plain": [
       "22"
      ]
     },
     "execution_count": 30,
     "metadata": {},
     "output_type": "execute_result"
    }
   ],
   "source": [
    "age"
   ]
  },
  {
   "cell_type": "code",
   "execution_count": 31,
   "id": "9b534362",
   "metadata": {},
   "outputs": [
    {
     "data": {
      "text/plain": [
       "33"
      ]
     },
     "execution_count": 31,
     "metadata": {},
     "output_type": "execute_result"
    }
   ],
   "source": [
    "AGE"
   ]
  },
  {
   "cell_type": "markdown",
   "id": "655c694c",
   "metadata": {},
   "source": [
    "###### Rule 3 :Variable does not contain Space , it contains underscore only"
   ]
  },
  {
   "cell_type": "code",
   "execution_count": 11,
   "id": "fb32a076",
   "metadata": {},
   "outputs": [
    {
     "ename": "SyntaxError",
     "evalue": "invalid syntax (<ipython-input-11-2d4d9ae8e09e>, line 1)",
     "output_type": "error",
     "traceback": [
      "\u001b[1;36m  File \u001b[1;32m\"<ipython-input-11-2d4d9ae8e09e>\"\u001b[1;36m, line \u001b[1;32m1\u001b[0m\n\u001b[1;33m    Home Town = Majalgaon\u001b[0m\n\u001b[1;37m         ^\u001b[0m\n\u001b[1;31mSyntaxError\u001b[0m\u001b[1;31m:\u001b[0m invalid syntax\n"
     ]
    }
   ],
   "source": [
    "Home Town = Majalgaon"
   ]
  },
  {
   "cell_type": "code",
   "execution_count": 13,
   "id": "93572dc3",
   "metadata": {},
   "outputs": [],
   "source": [
    "Home_Town=\"Majalgaon\""
   ]
  },
  {
   "cell_type": "code",
   "execution_count": 14,
   "id": "bc566a8c",
   "metadata": {},
   "outputs": [
    {
     "data": {
      "text/plain": [
       "'Majalgaon'"
      ]
     },
     "execution_count": 14,
     "metadata": {},
     "output_type": "execute_result"
    }
   ],
   "source": [
    "Home_Town"
   ]
  },
  {
   "cell_type": "code",
   "execution_count": 32,
   "id": "df88e89d",
   "metadata": {},
   "outputs": [
    {
     "ename": "SyntaxError",
     "evalue": "cannot assign to operator (<ipython-input-32-2d18acf949cf>, line 1)",
     "output_type": "error",
     "traceback": [
      "\u001b[1;36m  File \u001b[1;32m\"<ipython-input-32-2d18acf949cf>\"\u001b[1;36m, line \u001b[1;32m1\u001b[0m\n\u001b[1;33m    Home@town= \"Solapur\"\u001b[0m\n\u001b[1;37m    ^\u001b[0m\n\u001b[1;31mSyntaxError\u001b[0m\u001b[1;31m:\u001b[0m cannot assign to operator\n"
     ]
    }
   ],
   "source": [
    "Home@town= \"Solapur\""
   ]
  },
  {
   "cell_type": "code",
   "execution_count": null,
   "id": "049e76c0",
   "metadata": {},
   "outputs": [],
   "source": []
  }
 ],
 "metadata": {
  "kernelspec": {
   "display_name": "Python 3",
   "language": "python",
   "name": "python3"
  },
  "language_info": {
   "codemirror_mode": {
    "name": "ipython",
    "version": 3
   },
   "file_extension": ".py",
   "mimetype": "text/x-python",
   "name": "python",
   "nbconvert_exporter": "python",
   "pygments_lexer": "ipython3",
   "version": "3.8.8"
  }
 },
 "nbformat": 4,
 "nbformat_minor": 5
}
