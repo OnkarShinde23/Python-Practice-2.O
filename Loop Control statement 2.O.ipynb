{
 "cells": [
  {
   "cell_type": "raw",
   "id": "5adbdfca",
   "metadata": {},
   "source": [
    "There are four loop control statement :\n",
    "    1. Pass\n",
    "    2. Break\n",
    "    3. else\n",
    "    4. Continue"
   ]
  },
  {
   "cell_type": "code",
   "execution_count": 3,
   "id": "eeca4bde",
   "metadata": {},
   "outputs": [
    {
     "name": "stdout",
     "output_type": "stream",
     "text": [
      "Number:15\n",
      "1\n",
      "2\n",
      "3\n",
      "4\n",
      "5\n",
      "6\n",
      "7\n",
      "8\n",
      "9\n",
      "10\n",
      "11\n",
      "12\n",
      "13\n",
      "14\n",
      "15\n"
     ]
    }
   ],
   "source": [
    "n=int(input(\"Number:\"))\n",
    "i=1\n",
    "\n",
    "while i<=n:\n",
    "    pass\n",
    "    print(i)\n",
    "    i=i+1"
   ]
  },
  {
   "cell_type": "code",
   "execution_count": 4,
   "id": "bd8116d3",
   "metadata": {},
   "outputs": [
    {
     "name": "stdout",
     "output_type": "stream",
     "text": [
      "Number:9\n",
      "1\n",
      "2\n",
      "3\n",
      "4\n",
      "5\n",
      "6\n",
      "7\n",
      "8\n",
      "9\n"
     ]
    }
   ],
   "source": [
    "n=int(input(\"Number:\"))\n",
    "i=1\n",
    "\n",
    "while i<=n:\n",
    "    print(i)\n",
    "    pass\n",
    "    i=i+1"
   ]
  },
  {
   "cell_type": "markdown",
   "id": "893f06f3",
   "metadata": {},
   "source": [
    "###### Pass means do nothing"
   ]
  },
  {
   "cell_type": "markdown",
   "id": "f274d103",
   "metadata": {},
   "source": [
    "### Break"
   ]
  },
  {
   "cell_type": "code",
   "execution_count": 9,
   "id": "89cc2ead",
   "metadata": {},
   "outputs": [
    {
     "name": "stdout",
     "output_type": "stream",
     "text": [
      "1\n",
      "2\n",
      "3\n",
      "4\n",
      "5\n"
     ]
    }
   ],
   "source": [
    "n=10\n",
    "i=1\n",
    "\n",
    "while i<=n:\n",
    "    print(i)\n",
    "    if(i==5):\n",
    "        break\n",
    "    i=i+1"
   ]
  },
  {
   "cell_type": "markdown",
   "id": "6c0097ac",
   "metadata": {},
   "source": [
    "##### Prime number"
   ]
  },
  {
   "cell_type": "code",
   "execution_count": 16,
   "id": "8c293109",
   "metadata": {},
   "outputs": [
    {
     "name": "stdout",
     "output_type": "stream",
     "text": [
      "Number:78999\n",
      "This is not prime number\n"
     ]
    }
   ],
   "source": [
    "n=int(input(\"Number:\"))\n",
    "Flag=0\n",
    "i=2\n",
    "\n",
    "while (i<n) :\n",
    "    if (n%i==0):\n",
    "        Flag=1\n",
    "        break\n",
    "    i=i+1\n",
    "if (Flag==1):\n",
    "    print('This is not prime number')\n",
    "else:\n",
    "    print('This is prime number')\n"
   ]
  },
  {
   "cell_type": "code",
   "execution_count": null,
   "id": "74739a7d",
   "metadata": {},
   "outputs": [],
   "source": []
  }
 ],
 "metadata": {
  "kernelspec": {
   "display_name": "Python 3",
   "language": "python",
   "name": "python3"
  },
  "language_info": {
   "codemirror_mode": {
    "name": "ipython",
    "version": 3
   },
   "file_extension": ".py",
   "mimetype": "text/x-python",
   "name": "python",
   "nbconvert_exporter": "python",
   "pygments_lexer": "ipython3",
   "version": "3.8.8"
  }
 },
 "nbformat": 4,
 "nbformat_minor": 5
}
