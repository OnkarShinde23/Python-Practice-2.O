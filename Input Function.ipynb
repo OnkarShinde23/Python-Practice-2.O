{
 "cells": [
  {
   "cell_type": "markdown",
   "id": "3e015907",
   "metadata": {},
   "source": [
    "#### Typecasting"
   ]
  },
  {
   "cell_type": "markdown",
   "id": "15a355cd",
   "metadata": {},
   "source": [
    "Typecasting is the function used to convert datatype ,from one to another"
   ]
  },
  {
   "cell_type": "code",
   "execution_count": 11,
   "id": "0915106c",
   "metadata": {},
   "outputs": [],
   "source": [
    "A=90"
   ]
  },
  {
   "cell_type": "code",
   "execution_count": 12,
   "id": "15069eac",
   "metadata": {},
   "outputs": [
    {
     "data": {
      "text/plain": [
       "int"
      ]
     },
     "execution_count": 12,
     "metadata": {},
     "output_type": "execute_result"
    }
   ],
   "source": [
    "type(A)"
   ]
  },
  {
   "cell_type": "code",
   "execution_count": 13,
   "id": "947e27f3",
   "metadata": {},
   "outputs": [],
   "source": [
    "A=str(A)"
   ]
  },
  {
   "cell_type": "code",
   "execution_count": 15,
   "id": "cbb728bd",
   "metadata": {},
   "outputs": [
    {
     "data": {
      "text/plain": [
       "'90'"
      ]
     },
     "execution_count": 15,
     "metadata": {},
     "output_type": "execute_result"
    }
   ],
   "source": [
    "A"
   ]
  },
  {
   "cell_type": "code",
   "execution_count": 14,
   "id": "811fb6ca",
   "metadata": {},
   "outputs": [
    {
     "data": {
      "text/plain": [
       "str"
      ]
     },
     "execution_count": 14,
     "metadata": {},
     "output_type": "execute_result"
    }
   ],
   "source": [
    "type(A)"
   ]
  },
  {
   "cell_type": "code",
   "execution_count": 16,
   "id": "08339b21",
   "metadata": {},
   "outputs": [],
   "source": [
    "D='77'"
   ]
  },
  {
   "cell_type": "code",
   "execution_count": 17,
   "id": "6c9694b9",
   "metadata": {},
   "outputs": [
    {
     "data": {
      "text/plain": [
       "'77'"
      ]
     },
     "execution_count": 17,
     "metadata": {},
     "output_type": "execute_result"
    }
   ],
   "source": [
    "D"
   ]
  },
  {
   "cell_type": "code",
   "execution_count": 18,
   "id": "807abeec",
   "metadata": {},
   "outputs": [
    {
     "data": {
      "text/plain": [
       "str"
      ]
     },
     "execution_count": 18,
     "metadata": {},
     "output_type": "execute_result"
    }
   ],
   "source": [
    "type(D)"
   ]
  },
  {
   "cell_type": "code",
   "execution_count": 19,
   "id": "cebe0cd7",
   "metadata": {},
   "outputs": [],
   "source": [
    "D=int(D)"
   ]
  },
  {
   "cell_type": "code",
   "execution_count": 21,
   "id": "49e64ad2",
   "metadata": {},
   "outputs": [
    {
     "data": {
      "text/plain": [
       "77"
      ]
     },
     "execution_count": 21,
     "metadata": {},
     "output_type": "execute_result"
    }
   ],
   "source": [
    "D"
   ]
  },
  {
   "cell_type": "code",
   "execution_count": 20,
   "id": "891af649",
   "metadata": {},
   "outputs": [
    {
     "data": {
      "text/plain": [
       "int"
      ]
     },
     "execution_count": 20,
     "metadata": {},
     "output_type": "execute_result"
    }
   ],
   "source": [
    "type(D)"
   ]
  },
  {
   "cell_type": "markdown",
   "id": "b06207d7",
   "metadata": {},
   "source": [
    "#### Datatype\n",
    "\n",
    "Datatype uses for showing the datatype of given variable"
   ]
  },
  {
   "cell_type": "code",
   "execution_count": 22,
   "id": "74af7ff9",
   "metadata": {},
   "outputs": [],
   "source": [
    "A=\"Maharashtra\""
   ]
  },
  {
   "cell_type": "code",
   "execution_count": 23,
   "id": "2b29946a",
   "metadata": {},
   "outputs": [
    {
     "data": {
      "text/plain": [
       "'Maharashtra'"
      ]
     },
     "execution_count": 23,
     "metadata": {},
     "output_type": "execute_result"
    }
   ],
   "source": [
    "A"
   ]
  },
  {
   "cell_type": "code",
   "execution_count": 24,
   "id": "11edf3e6",
   "metadata": {},
   "outputs": [
    {
     "data": {
      "text/plain": [
       "str"
      ]
     },
     "execution_count": 24,
     "metadata": {},
     "output_type": "execute_result"
    }
   ],
   "source": [
    "type(A)"
   ]
  },
  {
   "cell_type": "code",
   "execution_count": 25,
   "id": "8c5e9284",
   "metadata": {},
   "outputs": [
    {
     "name": "stdout",
     "output_type": "stream",
     "text": [
      "<class 'str'>\n"
     ]
    }
   ],
   "source": [
    "print(type(A))"
   ]
  },
  {
   "cell_type": "code",
   "execution_count": 26,
   "id": "3b5430c4",
   "metadata": {},
   "outputs": [],
   "source": [
    "B=74\n"
   ]
  },
  {
   "cell_type": "code",
   "execution_count": 27,
   "id": "45a616af",
   "metadata": {},
   "outputs": [
    {
     "data": {
      "text/plain": [
       "int"
      ]
     },
     "execution_count": 27,
     "metadata": {},
     "output_type": "execute_result"
    }
   ],
   "source": [
    "type(B)"
   ]
  },
  {
   "cell_type": "markdown",
   "id": "e5a3e536",
   "metadata": {},
   "source": [
    "#### Input\n",
    "\n",
    "Input function allows to take input from keyboard the string values"
   ]
  },
  {
   "cell_type": "code",
   "execution_count": 28,
   "id": "a58f2e76",
   "metadata": {},
   "outputs": [
    {
     "name": "stdout",
     "output_type": "stream",
     "text": [
      "Name:Onkar\n"
     ]
    }
   ],
   "source": [
    "A=input(\"Name:\")"
   ]
  },
  {
   "cell_type": "code",
   "execution_count": 29,
   "id": "10063765",
   "metadata": {},
   "outputs": [
    {
     "data": {
      "text/plain": [
       "'Onkar'"
      ]
     },
     "execution_count": 29,
     "metadata": {},
     "output_type": "execute_result"
    }
   ],
   "source": [
    "A"
   ]
  },
  {
   "cell_type": "code",
   "execution_count": 33,
   "id": "d9924c47",
   "metadata": {},
   "outputs": [
    {
     "name": "stdout",
     "output_type": "stream",
     "text": [
      "Maharashtra\n"
     ]
    }
   ],
   "source": [
    "State=input()"
   ]
  },
  {
   "cell_type": "code",
   "execution_count": 34,
   "id": "ec030f9e",
   "metadata": {},
   "outputs": [
    {
     "data": {
      "text/plain": [
       "'Maharashtra'"
      ]
     },
     "execution_count": 34,
     "metadata": {},
     "output_type": "execute_result"
    }
   ],
   "source": [
    "State"
   ]
  },
  {
   "cell_type": "code",
   "execution_count": null,
   "id": "4c28b31f",
   "metadata": {},
   "outputs": [],
   "source": []
  }
 ],
 "metadata": {
  "kernelspec": {
   "display_name": "Python 3",
   "language": "python",
   "name": "python3"
  },
  "language_info": {
   "codemirror_mode": {
    "name": "ipython",
    "version": 3
   },
   "file_extension": ".py",
   "mimetype": "text/x-python",
   "name": "python",
   "nbconvert_exporter": "python",
   "pygments_lexer": "ipython3",
   "version": "3.8.8"
  }
 },
 "nbformat": 4,
 "nbformat_minor": 5
}
