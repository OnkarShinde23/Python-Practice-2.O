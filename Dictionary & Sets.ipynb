{
 "cells": [
  {
   "cell_type": "markdown",
   "id": "d442fe74",
   "metadata": {},
   "source": [
    "###### Dictionary \n",
    "    \n",
    "Dictionary's are the collection of key value pairs.It is mutuable & unordered also does not contain duplicate values"
   ]
  },
  {
   "cell_type": "code",
   "execution_count": 77,
   "id": "2c82f865",
   "metadata": {},
   "outputs": [],
   "source": [
    "Class_A={\"Student\":\"Onkar\",\n",
    "  \"Roll number\":23,\n",
    "  \"Marks\":90}"
   ]
  },
  {
   "cell_type": "code",
   "execution_count": 78,
   "id": "37725a91",
   "metadata": {},
   "outputs": [
    {
     "name": "stdout",
     "output_type": "stream",
     "text": [
      "{'Student': 'Onkar', 'Roll number': 23, 'Marks': 90}\n"
     ]
    }
   ],
   "source": [
    "print(Class_A)"
   ]
  },
  {
   "cell_type": "code",
   "execution_count": 79,
   "id": "1b77fe30",
   "metadata": {},
   "outputs": [
    {
     "ename": "KeyError",
     "evalue": "1",
     "output_type": "error",
     "traceback": [
      "\u001b[1;31m---------------------------------------------------------------------------\u001b[0m",
      "\u001b[1;31mKeyError\u001b[0m                                  Traceback (most recent call last)",
      "\u001b[1;32m<ipython-input-79-e390f610a0dd>\u001b[0m in \u001b[0;36m<module>\u001b[1;34m\u001b[0m\n\u001b[1;32m----> 1\u001b[1;33m \u001b[0mClass_A\u001b[0m\u001b[1;33m[\u001b[0m\u001b[1;36m1\u001b[0m\u001b[1;33m]\u001b[0m\u001b[1;33m\u001b[0m\u001b[1;33m\u001b[0m\u001b[0m\n\u001b[0m",
      "\u001b[1;31mKeyError\u001b[0m: 1"
     ]
    }
   ],
   "source": [
    "Class_A[1]"
   ]
  },
  {
   "cell_type": "code",
   "execution_count": 80,
   "id": "1ae55c27",
   "metadata": {},
   "outputs": [],
   "source": [
    "Z=list(Class_A)"
   ]
  },
  {
   "cell_type": "code",
   "execution_count": 81,
   "id": "03734d62",
   "metadata": {},
   "outputs": [
    {
     "data": {
      "text/plain": [
       "['Student', 'Roll number', 'Marks']"
      ]
     },
     "execution_count": 81,
     "metadata": {},
     "output_type": "execute_result"
    }
   ],
   "source": [
    "Z"
   ]
  },
  {
   "cell_type": "code",
   "execution_count": 82,
   "id": "97a9474f",
   "metadata": {},
   "outputs": [
    {
     "data": {
      "text/plain": [
       "'Roll number'"
      ]
     },
     "execution_count": 82,
     "metadata": {},
     "output_type": "execute_result"
    }
   ],
   "source": [
    "Z[1]"
   ]
  },
  {
   "cell_type": "code",
   "execution_count": 83,
   "id": "2643e58a",
   "metadata": {},
   "outputs": [],
   "source": [
    "Information={\"Name\":[\"Beed\",\"Pune\",'Mumbai'],\n",
    "            \"Population\":[1000000,5000000,7000000],\n",
    "            \"Rank\":[10,2,1]}"
   ]
  },
  {
   "cell_type": "code",
   "execution_count": 84,
   "id": "d48353bf",
   "metadata": {},
   "outputs": [
    {
     "name": "stdout",
     "output_type": "stream",
     "text": [
      "{'Name': ['Beed', 'Pune', 'Mumbai'], 'Population': [1000000, 5000000, 7000000], 'Rank': [10, 2, 1]}\n"
     ]
    }
   ],
   "source": [
    "print(Information)"
   ]
  },
  {
   "cell_type": "code",
   "execution_count": 85,
   "id": "6110de84",
   "metadata": {},
   "outputs": [
    {
     "data": {
      "text/plain": [
       "['Beed', 'Pune', 'Mumbai']"
      ]
     },
     "execution_count": 85,
     "metadata": {},
     "output_type": "execute_result"
    }
   ],
   "source": [
    "Information['Name']"
   ]
  },
  {
   "cell_type": "code",
   "execution_count": 86,
   "id": "add45f2d",
   "metadata": {},
   "outputs": [
    {
     "data": {
      "text/plain": [
       "[10, 2, 1]"
      ]
     },
     "execution_count": 86,
     "metadata": {},
     "output_type": "execute_result"
    }
   ],
   "source": [
    "Information['Rank']"
   ]
  },
  {
   "cell_type": "code",
   "execution_count": 87,
   "id": "96038b13",
   "metadata": {},
   "outputs": [
    {
     "ename": "KeyError",
     "evalue": "2",
     "output_type": "error",
     "traceback": [
      "\u001b[1;31m---------------------------------------------------------------------------\u001b[0m",
      "\u001b[1;31mKeyError\u001b[0m                                  Traceback (most recent call last)",
      "\u001b[1;32m<ipython-input-87-cf2ee1e0c2a6>\u001b[0m in \u001b[0;36m<module>\u001b[1;34m\u001b[0m\n\u001b[1;32m----> 1\u001b[1;33m \u001b[0mInformation\u001b[0m\u001b[1;33m[\u001b[0m\u001b[1;36m2\u001b[0m\u001b[1;33m]\u001b[0m\u001b[1;33m\u001b[0m\u001b[1;33m\u001b[0m\u001b[0m\n\u001b[0m",
      "\u001b[1;31mKeyError\u001b[0m: 2"
     ]
    }
   ],
   "source": [
    "Information[2]"
   ]
  },
  {
   "cell_type": "code",
   "execution_count": 88,
   "id": "2f4db8f5",
   "metadata": {},
   "outputs": [],
   "source": [
    "P=list(Information)"
   ]
  },
  {
   "cell_type": "code",
   "execution_count": 89,
   "id": "ac326f7d",
   "metadata": {},
   "outputs": [
    {
     "data": {
      "text/plain": [
       "['Name', 'Population', 'Rank']"
      ]
     },
     "execution_count": 89,
     "metadata": {},
     "output_type": "execute_result"
    }
   ],
   "source": [
    "P"
   ]
  },
  {
   "cell_type": "code",
   "execution_count": 90,
   "id": "e992c94c",
   "metadata": {},
   "outputs": [
    {
     "data": {
      "text/plain": [
       "'Rank'"
      ]
     },
     "execution_count": 90,
     "metadata": {},
     "output_type": "execute_result"
    }
   ],
   "source": [
    "P[2]"
   ]
  },
  {
   "cell_type": "code",
   "execution_count": 91,
   "id": "50833112",
   "metadata": {},
   "outputs": [
    {
     "data": {
      "text/plain": [
       "{'Name': ['Beed', 'Pune', 'Mumbai'],\n",
       " 'Population': [1000000, 5000000, 7000000],\n",
       " 'Rank': [10, 2, 1]}"
      ]
     },
     "execution_count": 91,
     "metadata": {},
     "output_type": "execute_result"
    }
   ],
   "source": [
    "Information"
   ]
  },
  {
   "cell_type": "code",
   "execution_count": 92,
   "id": "d7f6133e",
   "metadata": {},
   "outputs": [
    {
     "data": {
      "text/plain": [
       "dict_keys(['Name', 'Population', 'Rank'])"
      ]
     },
     "execution_count": 92,
     "metadata": {},
     "output_type": "execute_result"
    }
   ],
   "source": [
    "Information.keys()"
   ]
  },
  {
   "cell_type": "code",
   "execution_count": 93,
   "id": "33d9dc8e",
   "metadata": {},
   "outputs": [
    {
     "data": {
      "text/plain": [
       "dict_values([['Beed', 'Pune', 'Mumbai'], [1000000, 5000000, 7000000], [10, 2, 1]])"
      ]
     },
     "execution_count": 93,
     "metadata": {},
     "output_type": "execute_result"
    }
   ],
   "source": [
    "Information.values()"
   ]
  },
  {
   "cell_type": "code",
   "execution_count": 94,
   "id": "1d0ff586",
   "metadata": {},
   "outputs": [
    {
     "data": {
      "text/plain": [
       "['Beed', 'Pune', 'Mumbai']"
      ]
     },
     "execution_count": 94,
     "metadata": {},
     "output_type": "execute_result"
    }
   ],
   "source": [
    "Information.get(\"Name\")"
   ]
  },
  {
   "cell_type": "code",
   "execution_count": 95,
   "id": "ad8f56ec",
   "metadata": {},
   "outputs": [
    {
     "data": {
      "text/plain": [
       "3"
      ]
     },
     "execution_count": 95,
     "metadata": {},
     "output_type": "execute_result"
    }
   ],
   "source": [
    "len(Information)"
   ]
  },
  {
   "cell_type": "markdown",
   "id": "061ebf5b",
   "metadata": {},
   "source": [
    "###### Sets\n",
    "\n",
    "Sets are the collections of non repetative data values.\n",
    "Also sets are unordered,\n",
    "sets are immutable,\n",
    "sets does not contains duplicate values."
   ]
  },
  {
   "cell_type": "code",
   "execution_count": 96,
   "id": "a319f9a2",
   "metadata": {},
   "outputs": [],
   "source": [
    "A=[1,3,4,9,\"Amitabh Bachhan\"]"
   ]
  },
  {
   "cell_type": "code",
   "execution_count": 97,
   "id": "0415ec17",
   "metadata": {},
   "outputs": [
    {
     "data": {
      "text/plain": [
       "list"
      ]
     },
     "execution_count": 97,
     "metadata": {},
     "output_type": "execute_result"
    }
   ],
   "source": [
    "type(A)"
   ]
  },
  {
   "cell_type": "code",
   "execution_count": 98,
   "id": "e1c4a2d2",
   "metadata": {},
   "outputs": [],
   "source": [
    "B=(1,4,5,\"Shahrakh Khan\")"
   ]
  },
  {
   "cell_type": "code",
   "execution_count": 99,
   "id": "4678ac4d",
   "metadata": {},
   "outputs": [
    {
     "data": {
      "text/plain": [
       "tuple"
      ]
     },
     "execution_count": 99,
     "metadata": {},
     "output_type": "execute_result"
    }
   ],
   "source": [
    "type(B)"
   ]
  },
  {
   "cell_type": "code",
   "execution_count": 100,
   "id": "8f799f77",
   "metadata": {},
   "outputs": [],
   "source": [
    "C={\"Actor\":\"Salman Khan\",\n",
    "  \"Number_of_Movies\":50}"
   ]
  },
  {
   "cell_type": "code",
   "execution_count": 101,
   "id": "6d937443",
   "metadata": {},
   "outputs": [
    {
     "data": {
      "text/plain": [
       "{'Actor': 'Salman Khan', 'Number_of_Movies': 50}"
      ]
     },
     "execution_count": 101,
     "metadata": {},
     "output_type": "execute_result"
    }
   ],
   "source": [
    "C"
   ]
  },
  {
   "cell_type": "code",
   "execution_count": 102,
   "id": "a38f52dc",
   "metadata": {},
   "outputs": [
    {
     "data": {
      "text/plain": [
       "dict"
      ]
     },
     "execution_count": 102,
     "metadata": {},
     "output_type": "execute_result"
    }
   ],
   "source": [
    "type(C)"
   ]
  },
  {
   "cell_type": "code",
   "execution_count": 103,
   "id": "3a3075ec",
   "metadata": {},
   "outputs": [],
   "source": [
    "D={1,2,8,2222,\"Himalaya\"}"
   ]
  },
  {
   "cell_type": "code",
   "execution_count": 104,
   "id": "12baad44",
   "metadata": {},
   "outputs": [
    {
     "data": {
      "text/plain": [
       "{1, 2, 2222, 8, 'Himalaya'}"
      ]
     },
     "execution_count": 104,
     "metadata": {},
     "output_type": "execute_result"
    }
   ],
   "source": [
    "D"
   ]
  },
  {
   "cell_type": "code",
   "execution_count": 105,
   "id": "aa0eff95",
   "metadata": {},
   "outputs": [
    {
     "data": {
      "text/plain": [
       "set"
      ]
     },
     "execution_count": 105,
     "metadata": {},
     "output_type": "execute_result"
    }
   ],
   "source": [
    "type(D)"
   ]
  },
  {
   "cell_type": "markdown",
   "id": "530cbb85",
   "metadata": {},
   "source": [
    "###### If we write empty \"{}\" then type of variable will be show as dictionary"
   ]
  },
  {
   "cell_type": "code",
   "execution_count": 106,
   "id": "9a867e3b",
   "metadata": {},
   "outputs": [],
   "source": [
    "X={}"
   ]
  },
  {
   "cell_type": "code",
   "execution_count": 107,
   "id": "5d49b2b9",
   "metadata": {},
   "outputs": [
    {
     "data": {
      "text/plain": [
       "dict"
      ]
     },
     "execution_count": 107,
     "metadata": {},
     "output_type": "execute_result"
    }
   ],
   "source": [
    "type(X)"
   ]
  },
  {
   "cell_type": "markdown",
   "id": "4cf3ee64",
   "metadata": {},
   "source": [
    "For empty set ,\n",
    "\n",
    "M=set()"
   ]
  },
  {
   "cell_type": "code",
   "execution_count": 108,
   "id": "9231ae75",
   "metadata": {},
   "outputs": [],
   "source": [
    "M=set()"
   ]
  },
  {
   "cell_type": "code",
   "execution_count": 109,
   "id": "515c68c2",
   "metadata": {},
   "outputs": [
    {
     "data": {
      "text/plain": [
       "set()"
      ]
     },
     "execution_count": 109,
     "metadata": {},
     "output_type": "execute_result"
    }
   ],
   "source": [
    "M"
   ]
  },
  {
   "cell_type": "code",
   "execution_count": 110,
   "id": "89563079",
   "metadata": {},
   "outputs": [
    {
     "data": {
      "text/plain": [
       "set"
      ]
     },
     "execution_count": 110,
     "metadata": {},
     "output_type": "execute_result"
    }
   ],
   "source": [
    "type(M)"
   ]
  },
  {
   "cell_type": "code",
   "execution_count": 111,
   "id": "1cfbcf2b",
   "metadata": {},
   "outputs": [],
   "source": [
    "M.add(1)"
   ]
  },
  {
   "cell_type": "code",
   "execution_count": 112,
   "id": "697f6a68",
   "metadata": {},
   "outputs": [
    {
     "data": {
      "text/plain": [
       "{1}"
      ]
     },
     "execution_count": 112,
     "metadata": {},
     "output_type": "execute_result"
    }
   ],
   "source": [
    "M"
   ]
  },
  {
   "cell_type": "code",
   "execution_count": 113,
   "id": "639a9e28",
   "metadata": {},
   "outputs": [],
   "source": [
    "M.add(23)"
   ]
  },
  {
   "cell_type": "code",
   "execution_count": 114,
   "id": "a6b763b3",
   "metadata": {},
   "outputs": [
    {
     "data": {
      "text/plain": [
       "{1, 23}"
      ]
     },
     "execution_count": 114,
     "metadata": {},
     "output_type": "execute_result"
    }
   ],
   "source": [
    "M"
   ]
  },
  {
   "cell_type": "code",
   "execution_count": 115,
   "id": "62f41bc7",
   "metadata": {},
   "outputs": [],
   "source": [
    "M.add(\"Onkar\")"
   ]
  },
  {
   "cell_type": "code",
   "execution_count": 116,
   "id": "2de3e86f",
   "metadata": {},
   "outputs": [
    {
     "data": {
      "text/plain": [
       "{1, 23, 'Onkar'}"
      ]
     },
     "execution_count": 116,
     "metadata": {},
     "output_type": "execute_result"
    }
   ],
   "source": [
    "M"
   ]
  },
  {
   "cell_type": "markdown",
   "id": "397f97ad",
   "metadata": {},
   "source": [
    "###### 1.In Set we can not add List"
   ]
  },
  {
   "cell_type": "code",
   "execution_count": 117,
   "id": "1376cc8c",
   "metadata": {},
   "outputs": [
    {
     "ename": "TypeError",
     "evalue": "unhashable type: 'list'",
     "output_type": "error",
     "traceback": [
      "\u001b[1;31m---------------------------------------------------------------------------\u001b[0m",
      "\u001b[1;31mTypeError\u001b[0m                                 Traceback (most recent call last)",
      "\u001b[1;32m<ipython-input-117-db4195f54476>\u001b[0m in \u001b[0;36m<module>\u001b[1;34m\u001b[0m\n\u001b[1;32m----> 1\u001b[1;33m \u001b[0mM\u001b[0m\u001b[1;33m.\u001b[0m\u001b[0madd\u001b[0m\u001b[1;33m(\u001b[0m\u001b[1;33m[\u001b[0m\u001b[1;36m11\u001b[0m\u001b[1;33m,\u001b[0m\u001b[1;36m90\u001b[0m\u001b[1;33m]\u001b[0m\u001b[1;33m)\u001b[0m\u001b[1;33m\u001b[0m\u001b[1;33m\u001b[0m\u001b[0m\n\u001b[0m",
      "\u001b[1;31mTypeError\u001b[0m: unhashable type: 'list'"
     ]
    }
   ],
   "source": [
    "M.add([11,90])"
   ]
  },
  {
   "cell_type": "markdown",
   "id": "96d0e7c1",
   "metadata": {},
   "source": [
    "###### 2.In set we can add tuple"
   ]
  },
  {
   "cell_type": "code",
   "execution_count": 118,
   "id": "a5eb3ce0",
   "metadata": {},
   "outputs": [],
   "source": [
    "M.add((\"Shinde\",999,\"Majalgaon\"))"
   ]
  },
  {
   "cell_type": "code",
   "execution_count": 119,
   "id": "66fdb69c",
   "metadata": {},
   "outputs": [
    {
     "data": {
      "text/plain": [
       "{('Shinde', 999, 'Majalgaon'), 1, 23, 'Onkar'}"
      ]
     },
     "execution_count": 119,
     "metadata": {},
     "output_type": "execute_result"
    }
   ],
   "source": [
    "M"
   ]
  },
  {
   "cell_type": "code",
   "execution_count": 120,
   "id": "9dad5ce8",
   "metadata": {},
   "outputs": [],
   "source": [
    "M.add(1000)"
   ]
  },
  {
   "cell_type": "code",
   "execution_count": 121,
   "id": "59347e6a",
   "metadata": {},
   "outputs": [
    {
     "data": {
      "text/plain": [
       "{('Shinde', 999, 'Majalgaon'), 1, 1000, 23, 'Onkar'}"
      ]
     },
     "execution_count": 121,
     "metadata": {},
     "output_type": "execute_result"
    }
   ],
   "source": [
    "M"
   ]
  },
  {
   "cell_type": "code",
   "execution_count": 122,
   "id": "2b70a7cc",
   "metadata": {},
   "outputs": [
    {
     "data": {
      "text/plain": [
       "set"
      ]
     },
     "execution_count": 122,
     "metadata": {},
     "output_type": "execute_result"
    }
   ],
   "source": [
    "type(M)"
   ]
  },
  {
   "cell_type": "markdown",
   "id": "0add9b3b",
   "metadata": {},
   "source": [
    "###### 3.In set we can not add dictionary"
   ]
  },
  {
   "cell_type": "code",
   "execution_count": 123,
   "id": "97d99d10",
   "metadata": {},
   "outputs": [
    {
     "ename": "SyntaxError",
     "evalue": "invalid syntax (<ipython-input-123-8ffc270510b5>, line 1)",
     "output_type": "error",
     "traceback": [
      "\u001b[1;36m  File \u001b[1;32m\"<ipython-input-123-8ffc270510b5>\"\u001b[1;36m, line \u001b[1;32m1\u001b[0m\n\u001b[1;33m    M.add{\"Movie\":\"Sholay\",\u001b[0m\n\u001b[1;37m         ^\u001b[0m\n\u001b[1;31mSyntaxError\u001b[0m\u001b[1;31m:\u001b[0m invalid syntax\n"
     ]
    }
   ],
   "source": [
    "M.add{\"Movie\":\"Sholay\",\n",
    "     \"year\":1973}"
   ]
  },
  {
   "cell_type": "markdown",
   "id": "60d6a086",
   "metadata": {},
   "source": [
    "###### How to get index wise values from set ?\n",
    "\n",
    "In set we need convert it into list firstly."
   ]
  },
  {
   "cell_type": "code",
   "execution_count": 124,
   "id": "1b224ee8",
   "metadata": {},
   "outputs": [],
   "source": [
    "Set={1,2.3,44,\"India\"}"
   ]
  },
  {
   "cell_type": "code",
   "execution_count": 125,
   "id": "ad7d6da6",
   "metadata": {},
   "outputs": [
    {
     "data": {
      "text/plain": [
       "{1, 2.3, 44, 'India'}"
      ]
     },
     "execution_count": 125,
     "metadata": {},
     "output_type": "execute_result"
    }
   ],
   "source": [
    "Set"
   ]
  },
  {
   "cell_type": "code",
   "execution_count": 126,
   "id": "264001ac",
   "metadata": {},
   "outputs": [
    {
     "data": {
      "text/plain": [
       "set"
      ]
     },
     "execution_count": 126,
     "metadata": {},
     "output_type": "execute_result"
    }
   ],
   "source": [
    "type(Set)"
   ]
  },
  {
   "cell_type": "code",
   "execution_count": 127,
   "id": "5142c5d3",
   "metadata": {},
   "outputs": [
    {
     "ename": "TypeError",
     "evalue": "'set' object is not subscriptable",
     "output_type": "error",
     "traceback": [
      "\u001b[1;31m---------------------------------------------------------------------------\u001b[0m",
      "\u001b[1;31mTypeError\u001b[0m                                 Traceback (most recent call last)",
      "\u001b[1;32m<ipython-input-127-e7e729fcb8d5>\u001b[0m in \u001b[0;36m<module>\u001b[1;34m\u001b[0m\n\u001b[1;32m----> 1\u001b[1;33m \u001b[0mSet\u001b[0m\u001b[1;33m[\u001b[0m\u001b[1;36m2\u001b[0m\u001b[1;33m]\u001b[0m\u001b[1;33m\u001b[0m\u001b[1;33m\u001b[0m\u001b[0m\n\u001b[0m",
      "\u001b[1;31mTypeError\u001b[0m: 'set' object is not subscriptable"
     ]
    }
   ],
   "source": [
    "Set[2]"
   ]
  },
  {
   "cell_type": "code",
   "execution_count": 128,
   "id": "f3cfe30f",
   "metadata": {},
   "outputs": [],
   "source": [
    "Converted_Set_into_List=list(Set)"
   ]
  },
  {
   "cell_type": "code",
   "execution_count": 129,
   "id": "1c23247d",
   "metadata": {},
   "outputs": [
    {
     "data": {
      "text/plain": [
       "[1, 2.3, 'India', 44]"
      ]
     },
     "execution_count": 129,
     "metadata": {},
     "output_type": "execute_result"
    }
   ],
   "source": [
    "Converted_Set_into_List"
   ]
  },
  {
   "cell_type": "code",
   "execution_count": 130,
   "id": "03ca228a",
   "metadata": {},
   "outputs": [
    {
     "data": {
      "text/plain": [
       "list"
      ]
     },
     "execution_count": 130,
     "metadata": {},
     "output_type": "execute_result"
    }
   ],
   "source": [
    "type(Converted_Set_into_List)"
   ]
  },
  {
   "cell_type": "code",
   "execution_count": 131,
   "id": "04db0280",
   "metadata": {},
   "outputs": [
    {
     "data": {
      "text/plain": [
       "'India'"
      ]
     },
     "execution_count": 131,
     "metadata": {},
     "output_type": "execute_result"
    }
   ],
   "source": [
    "Converted_Set_into_List[2]"
   ]
  },
  {
   "cell_type": "markdown",
   "id": "98f93d58",
   "metadata": {},
   "source": [
    "###### Union & Intersection"
   ]
  },
  {
   "cell_type": "code",
   "execution_count": 132,
   "id": "4a386807",
   "metadata": {},
   "outputs": [],
   "source": [
    "Set1={1,2,3,4,55,4,5}"
   ]
  },
  {
   "cell_type": "code",
   "execution_count": 133,
   "id": "bc83bfa9",
   "metadata": {},
   "outputs": [
    {
     "data": {
      "text/plain": [
       "{1, 2, 3, 4, 5, 55}"
      ]
     },
     "execution_count": 133,
     "metadata": {},
     "output_type": "execute_result"
    }
   ],
   "source": [
    "Set1"
   ]
  },
  {
   "cell_type": "code",
   "execution_count": 134,
   "id": "cd3815a3",
   "metadata": {},
   "outputs": [],
   "source": [
    "Set2={1,2,333,4444,555}"
   ]
  },
  {
   "cell_type": "code",
   "execution_count": 135,
   "id": "e292c44b",
   "metadata": {},
   "outputs": [
    {
     "data": {
      "text/plain": [
       "{1, 2, 333, 555, 4444}"
      ]
     },
     "execution_count": 135,
     "metadata": {},
     "output_type": "execute_result"
    }
   ],
   "source": [
    "Set2"
   ]
  },
  {
   "cell_type": "code",
   "execution_count": 136,
   "id": "aa47b05a",
   "metadata": {},
   "outputs": [
    {
     "data": {
      "text/plain": [
       "{1, 2, 3, 4, 5, 55, 333, 555, 4444}"
      ]
     },
     "execution_count": 136,
     "metadata": {},
     "output_type": "execute_result"
    }
   ],
   "source": [
    "Set1.union(Set2)"
   ]
  },
  {
   "cell_type": "code",
   "execution_count": 137,
   "id": "04dedc8c",
   "metadata": {},
   "outputs": [
    {
     "data": {
      "text/plain": [
       "{1, 2}"
      ]
     },
     "execution_count": 137,
     "metadata": {},
     "output_type": "execute_result"
    }
   ],
   "source": [
    "Set1.intersection(Set2)"
   ]
  },
  {
   "cell_type": "markdown",
   "id": "4ed33dc4",
   "metadata": {},
   "source": [
    "###### Trying on List datatype"
   ]
  },
  {
   "cell_type": "code",
   "execution_count": 138,
   "id": "01b2375b",
   "metadata": {},
   "outputs": [],
   "source": [
    "List1=[11,12,13,14]"
   ]
  },
  {
   "cell_type": "code",
   "execution_count": 139,
   "id": "147d363b",
   "metadata": {},
   "outputs": [],
   "source": [
    "List2=[21,22,23,24]"
   ]
  },
  {
   "cell_type": "code",
   "execution_count": 140,
   "id": "74818438",
   "metadata": {},
   "outputs": [
    {
     "ename": "AttributeError",
     "evalue": "'list' object has no attribute 'union'",
     "output_type": "error",
     "traceback": [
      "\u001b[1;31m---------------------------------------------------------------------------\u001b[0m",
      "\u001b[1;31mAttributeError\u001b[0m                            Traceback (most recent call last)",
      "\u001b[1;32m<ipython-input-140-8a718032dd6f>\u001b[0m in \u001b[0;36m<module>\u001b[1;34m\u001b[0m\n\u001b[1;32m----> 1\u001b[1;33m \u001b[0mList1\u001b[0m\u001b[1;33m.\u001b[0m\u001b[0munion\u001b[0m\u001b[1;33m(\u001b[0m\u001b[0mList2\u001b[0m\u001b[1;33m)\u001b[0m\u001b[1;33m\u001b[0m\u001b[1;33m\u001b[0m\u001b[0m\n\u001b[0m",
      "\u001b[1;31mAttributeError\u001b[0m: 'list' object has no attribute 'union'"
     ]
    }
   ],
   "source": [
    "List1.union(List2)"
   ]
  },
  {
   "cell_type": "code",
   "execution_count": null,
   "id": "f3e70022",
   "metadata": {},
   "outputs": [],
   "source": []
  },
  {
   "cell_type": "code",
   "execution_count": null,
   "id": "d78e9bf7",
   "metadata": {},
   "outputs": [],
   "source": []
  },
  {
   "cell_type": "code",
   "execution_count": null,
   "id": "ded7932c",
   "metadata": {},
   "outputs": [],
   "source": []
  }
 ],
 "metadata": {
  "kernelspec": {
   "display_name": "Python 3",
   "language": "python",
   "name": "python3"
  },
  "language_info": {
   "codemirror_mode": {
    "name": "ipython",
    "version": 3
   },
   "file_extension": ".py",
   "mimetype": "text/x-python",
   "name": "python",
   "nbconvert_exporter": "python",
   "pygments_lexer": "ipython3",
   "version": "3.8.8"
  }
 },
 "nbformat": 4,
 "nbformat_minor": 5
}
