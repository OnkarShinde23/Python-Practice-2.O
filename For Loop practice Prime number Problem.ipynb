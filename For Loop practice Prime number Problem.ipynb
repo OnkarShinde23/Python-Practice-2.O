{
 "cells": [
  {
   "cell_type": "code",
   "execution_count": 1,
   "id": "79b17e95",
   "metadata": {},
   "outputs": [
    {
     "name": "stdout",
     "output_type": "stream",
     "text": [
      "H\n",
      "e\n",
      "l\n",
      "l\n",
      "o\n"
     ]
    }
   ],
   "source": [
    "for i in \"Hello\":\n",
    "    print(i)"
   ]
  },
  {
   "cell_type": "code",
   "execution_count": 2,
   "id": "0941428e",
   "metadata": {},
   "outputs": [
    {
     "name": "stdout",
     "output_type": "stream",
     "text": [
      "1\n",
      "2\n",
      "Onkar\n",
      "Mumbai\n",
      "Maharashtra\n"
     ]
    }
   ],
   "source": [
    "for a in (1,2,\"Onkar\",\"Mumbai\",\"Maharashtra\"):\n",
    "    print(a)"
   ]
  },
  {
   "cell_type": "code",
   "execution_count": 3,
   "id": "4a23b412",
   "metadata": {},
   "outputs": [
    {
     "name": "stdout",
     "output_type": "stream",
     "text": [
      "1\n",
      "2\n",
      "3\n",
      "4\n",
      "5\n"
     ]
    }
   ],
   "source": [
    "for i in range (1,6):\n",
    "    print(i)"
   ]
  },
  {
   "cell_type": "code",
   "execution_count": 4,
   "id": "54bbfd97",
   "metadata": {},
   "outputs": [
    {
     "name": "stdout",
     "output_type": "stream",
     "text": [
      "5\n",
      "10\n",
      "15\n",
      "20\n",
      "25\n",
      "30\n",
      "35\n",
      "40\n",
      "45\n",
      "50\n"
     ]
    }
   ],
   "source": [
    "for z in range (1,11):\n",
    "    print(5*z)"
   ]
  },
  {
   "cell_type": "code",
   "execution_count": 5,
   "id": "2888b3a9",
   "metadata": {},
   "outputs": [
    {
     "name": "stdout",
     "output_type": "stream",
     "text": [
      "5 * 10 = 5\n",
      "5 * 10 = 10\n",
      "5 * 10 = 15\n",
      "5 * 10 = 20\n",
      "5 * 10 = 25\n",
      "5 * 10 = 30\n",
      "5 * 10 = 35\n",
      "5 * 10 = 40\n",
      "5 * 10 = 45\n",
      "5 * 10 = 50\n"
     ]
    }
   ],
   "source": [
    "for P in range (1,11):\n",
    "    print(5,'*',z,'=',5*P)"
   ]
  },
  {
   "cell_type": "code",
   "execution_count": 6,
   "id": "6362a88e",
   "metadata": {},
   "outputs": [
    {
     "name": "stdout",
     "output_type": "stream",
     "text": [
      "1 - 2 - 3\n",
      "4 - 5 - 6\n",
      "7 - 8 - 9\n",
      "11 - 12 - 13\n"
     ]
    }
   ],
   "source": [
    "for a,b,c in [(1,2,3),(4,5,6),(7,8,9),(11,12,13)]:\n",
    "    print(a,'-',b,'-',c)"
   ]
  },
  {
   "cell_type": "markdown",
   "id": "f1b58494",
   "metadata": {},
   "source": [
    "### Loop Control Statements"
   ]
  },
  {
   "cell_type": "markdown",
   "id": "f7105b35",
   "metadata": {},
   "source": [
    "###### Pass"
   ]
  },
  {
   "cell_type": "code",
   "execution_count": 7,
   "id": "d169c9be",
   "metadata": {},
   "outputs": [
    {
     "name": "stdout",
     "output_type": "stream",
     "text": [
      "Hello\n",
      "Thank you\n"
     ]
    }
   ],
   "source": [
    "print(\"Hello\")\n",
    "\n",
    "for i in range (1,6):\n",
    "    pass\n",
    "\n",
    "print('Thank you')"
   ]
  },
  {
   "cell_type": "markdown",
   "id": "71bba505",
   "metadata": {},
   "source": [
    "#### Break"
   ]
  },
  {
   "cell_type": "code",
   "execution_count": 8,
   "id": "4216e408",
   "metadata": {},
   "outputs": [
    {
     "name": "stdout",
     "output_type": "stream",
     "text": [
      "1\n"
     ]
    }
   ],
   "source": [
    "for i in range (1,6):\n",
    "    print(i)\n",
    "    break"
   ]
  },
  {
   "cell_type": "code",
   "execution_count": 9,
   "id": "cf2eb6f3",
   "metadata": {},
   "outputs": [
    {
     "name": "stdout",
     "output_type": "stream",
     "text": [
      "1\n",
      "2\n",
      "3\n",
      "4\n",
      "5\n"
     ]
    }
   ],
   "source": [
    "for a in range (1,11):\n",
    "    print(a)\n",
    "    if a==5:\n",
    "        break"
   ]
  },
  {
   "cell_type": "code",
   "execution_count": 10,
   "id": "db63ed32",
   "metadata": {},
   "outputs": [
    {
     "name": "stdout",
     "output_type": "stream",
     "text": [
      "7\n",
      "Prime\n"
     ]
    }
   ],
   "source": [
    "z=int(input())\n",
    "flag=0\n",
    "\n",
    "for a in range (2,z):\n",
    "    if z%a==0:\n",
    "        flag=1\n",
    "        break\n",
    "if (flag==1):\n",
    "    print(\"Non Prime\")\n",
    "else:\n",
    "    print(\"Prime\")\n",
    "        \n"
   ]
  },
  {
   "cell_type": "code",
   "execution_count": null,
   "id": "57815b8e",
   "metadata": {},
   "outputs": [],
   "source": []
  }
 ],
 "metadata": {
  "kernelspec": {
   "display_name": "Python 3",
   "language": "python",
   "name": "python3"
  },
  "language_info": {
   "codemirror_mode": {
    "name": "ipython",
    "version": 3
   },
   "file_extension": ".py",
   "mimetype": "text/x-python",
   "name": "python",
   "nbconvert_exporter": "python",
   "pygments_lexer": "ipython3",
   "version": "3.8.8"
  }
 },
 "nbformat": 4,
 "nbformat_minor": 5
}
