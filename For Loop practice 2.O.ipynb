{
 "cells": [
  {
   "cell_type": "code",
   "execution_count": 1,
   "id": "a32d3075",
   "metadata": {},
   "outputs": [
    {
     "name": "stdout",
     "output_type": "stream",
     "text": [
      "H\n",
      "e\n",
      "l\n",
      "l\n",
      "o\n"
     ]
    }
   ],
   "source": [
    "for i in \"Hello\":\n",
    "    print(i)"
   ]
  },
  {
   "cell_type": "code",
   "execution_count": 2,
   "id": "09ae84bb",
   "metadata": {},
   "outputs": [
    {
     "name": "stdout",
     "output_type": "stream",
     "text": [
      "1\n",
      "2\n",
      "Onkar\n",
      "Mumbai\n",
      "Maharashtra\n"
     ]
    }
   ],
   "source": [
    "for a in (1,2,\"Onkar\",\"Mumbai\",\"Maharashtra\"):\n",
    "    print(a)"
   ]
  },
  {
   "cell_type": "code",
   "execution_count": 3,
   "id": "8b8e3c38",
   "metadata": {},
   "outputs": [
    {
     "name": "stdout",
     "output_type": "stream",
     "text": [
      "1\n",
      "2\n",
      "3\n",
      "4\n",
      "5\n"
     ]
    }
   ],
   "source": [
    "for i in range (1,6):\n",
    "    print(i)"
   ]
  },
  {
   "cell_type": "code",
   "execution_count": 4,
   "id": "50c6f09e",
   "metadata": {},
   "outputs": [
    {
     "name": "stdout",
     "output_type": "stream",
     "text": [
      "5\n",
      "10\n",
      "15\n",
      "20\n",
      "25\n",
      "30\n",
      "35\n",
      "40\n",
      "45\n",
      "50\n"
     ]
    }
   ],
   "source": [
    "for z in range (1,11):\n",
    "    print(5*z)"
   ]
  },
  {
   "cell_type": "code",
   "execution_count": 5,
   "id": "8b076c82",
   "metadata": {},
   "outputs": [
    {
     "name": "stdout",
     "output_type": "stream",
     "text": [
      "5 * 10 = 5\n",
      "5 * 10 = 10\n",
      "5 * 10 = 15\n",
      "5 * 10 = 20\n",
      "5 * 10 = 25\n",
      "5 * 10 = 30\n",
      "5 * 10 = 35\n",
      "5 * 10 = 40\n",
      "5 * 10 = 45\n",
      "5 * 10 = 50\n"
     ]
    }
   ],
   "source": [
    "for P in range (1,11):\n",
    "    print(5,'*',z,'=',5*P)"
   ]
  },
  {
   "cell_type": "code",
   "execution_count": 6,
   "id": "a5230892",
   "metadata": {},
   "outputs": [
    {
     "name": "stdout",
     "output_type": "stream",
     "text": [
      "1 - 2 - 3\n",
      "4 - 5 - 6\n",
      "7 - 8 - 9\n",
      "11 - 12 - 13\n"
     ]
    }
   ],
   "source": [
    "for a,b,c in [(1,2,3),(4,5,6),(7,8,9),(11,12,13)]:\n",
    "    print(a,'-',b,'-',c)"
   ]
  },
  {
   "cell_type": "code",
   "execution_count": null,
   "id": "2eb8f9ec",
   "metadata": {},
   "outputs": [],
   "source": []
  }
 ],
 "metadata": {
  "kernelspec": {
   "display_name": "Python 3",
   "language": "python",
   "name": "python3"
  },
  "language_info": {
   "codemirror_mode": {
    "name": "ipython",
    "version": 3
   },
   "file_extension": ".py",
   "mimetype": "text/x-python",
   "name": "python",
   "nbconvert_exporter": "python",
   "pygments_lexer": "ipython3",
   "version": "3.8.8"
  }
 },
 "nbformat": 4,
 "nbformat_minor": 5
}
