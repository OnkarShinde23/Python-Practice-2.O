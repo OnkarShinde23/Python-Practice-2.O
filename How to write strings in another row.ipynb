{
 "cells": [
  {
   "cell_type": "code",
   "execution_count": 19,
   "id": "409356d8",
   "metadata": {},
   "outputs": [],
   "source": [
    "a=\"Onkar Shinde\""
   ]
  },
  {
   "cell_type": "code",
   "execution_count": 20,
   "id": "e383fd01",
   "metadata": {},
   "outputs": [
    {
     "name": "stdout",
     "output_type": "stream",
     "text": [
      "Onkar Shinde\n"
     ]
    }
   ],
   "source": [
    "print(a)"
   ]
  },
  {
   "cell_type": "code",
   "execution_count": 21,
   "id": "e4a83a7e",
   "metadata": {},
   "outputs": [],
   "source": [
    "b='Sinhgad Collage'"
   ]
  },
  {
   "cell_type": "code",
   "execution_count": 22,
   "id": "cd1a82ba",
   "metadata": {},
   "outputs": [
    {
     "name": "stdout",
     "output_type": "stream",
     "text": [
      "Sinhgad Collage\n"
     ]
    }
   ],
   "source": [
    "print(b)"
   ]
  },
  {
   "cell_type": "markdown",
   "id": "46a8254f",
   "metadata": {},
   "source": [
    "### How to write strings in another row?"
   ]
  },
  {
   "cell_type": "code",
   "execution_count": 24,
   "id": "29f5bc38",
   "metadata": {},
   "outputs": [
    {
     "ename": "SyntaxError",
     "evalue": "EOL while scanning string literal (<ipython-input-24-830c3efff141>, line 1)",
     "output_type": "error",
     "traceback": [
      "\u001b[1;36m  File \u001b[1;32m\"<ipython-input-24-830c3efff141>\"\u001b[1;36m, line \u001b[1;32m1\u001b[0m\n\u001b[1;33m    c=\"I am Onkar Shinde,\u001b[0m\n\u001b[1;37m                         ^\u001b[0m\n\u001b[1;31mSyntaxError\u001b[0m\u001b[1;31m:\u001b[0m EOL while scanning string literal\n"
     ]
    }
   ],
   "source": [
    "c=\"I am Onkar Shinde,\n",
    "I am from Majalgaon,\n",
    "but currently living in Pune.\""
   ]
  },
  {
   "cell_type": "code",
   "execution_count": 26,
   "id": "2b52b18d",
   "metadata": {},
   "outputs": [],
   "source": [
    "c='''I am Onkar Shinde,\n",
    "i am from Majalgaon ,\n",
    "but currently in living in Pune.'''"
   ]
  },
  {
   "cell_type": "code",
   "execution_count": 27,
   "id": "e45c5746",
   "metadata": {},
   "outputs": [
    {
     "name": "stdout",
     "output_type": "stream",
     "text": [
      "I am Onkar Shinde,\n",
      "i am from Majalgaon ,\n",
      "but currently in living in Pune.\n"
     ]
    }
   ],
   "source": [
    "print(c)"
   ]
  },
  {
   "cell_type": "code",
   "execution_count": null,
   "id": "e1c46ced",
   "metadata": {},
   "outputs": [],
   "source": []
  }
 ],
 "metadata": {
  "kernelspec": {
   "display_name": "Python 3",
   "language": "python",
   "name": "python3"
  },
  "language_info": {
   "codemirror_mode": {
    "name": "ipython",
    "version": 3
   },
   "file_extension": ".py",
   "mimetype": "text/x-python",
   "name": "python",
   "nbconvert_exporter": "python",
   "pygments_lexer": "ipython3",
   "version": "3.8.8"
  }
 },
 "nbformat": 4,
 "nbformat_minor": 5
}
