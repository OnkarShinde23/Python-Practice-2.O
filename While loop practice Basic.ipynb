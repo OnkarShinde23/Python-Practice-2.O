{
 "cells": [
  {
   "cell_type": "code",
   "execution_count": 5,
   "id": "e2b8aac9",
   "metadata": {},
   "outputs": [
    {
     "name": "stdout",
     "output_type": "stream",
     "text": [
      "Hello\n",
      "Hello\n",
      "Hello\n",
      "Hello\n",
      "Hello\n"
     ]
    }
   ],
   "source": [
    "n=5\n",
    "i=1\n",
    "\n",
    "while i<=n:\n",
    "    print(\"Hello\")\n",
    "    i=i+1\n",
    "    \n",
    "    \n",
    "    "
   ]
  },
  {
   "cell_type": "code",
   "execution_count": 10,
   "id": "bd2d41e2",
   "metadata": {},
   "outputs": [
    {
     "name": "stdout",
     "output_type": "stream",
     "text": [
      "3\n",
      "4\n",
      "5\n",
      "6\n",
      "7\n",
      "8\n",
      "9\n",
      "10\n"
     ]
    }
   ],
   "source": [
    "n=10\n",
    "i=3\n",
    "\n",
    "while i<=n:\n",
    "    print(i)\n",
    "    i=i+1\n",
    "    "
   ]
  },
  {
   "cell_type": "raw",
   "id": "c606be06",
   "metadata": {},
   "source": [
    "Means whenever program runs in loop,if i = 3 & condition is i=i+1 ,then program will run as follows:\n",
    "i=2+1=3\n",
    "i=3+1=4\n",
    "i=4+1=5\n",
    "i=5+1=6\n",
    "i=6+1=7\n",
    "So on....\n",
    "\n",
    "Hence we can say that i will start from one digit before "
   ]
  },
  {
   "cell_type": "code",
   "execution_count": null,
   "id": "8b79bcbb",
   "metadata": {},
   "outputs": [],
   "source": []
  }
 ],
 "metadata": {
  "kernelspec": {
   "display_name": "Python 3",
   "language": "python",
   "name": "python3"
  },
  "language_info": {
   "codemirror_mode": {
    "name": "ipython",
    "version": 3
   },
   "file_extension": ".py",
   "mimetype": "text/x-python",
   "name": "python",
   "nbconvert_exporter": "python",
   "pygments_lexer": "ipython3",
   "version": "3.8.8"
  }
 },
 "nbformat": 4,
 "nbformat_minor": 5
}
