{
 "cells": [
  {
   "cell_type": "code",
   "execution_count": 4,
   "id": "9ced4764",
   "metadata": {},
   "outputs": [
    {
     "name": "stdout",
     "output_type": "stream",
     "text": [
      "*\n",
      "*\n",
      "*\n",
      "*\n",
      "*\n"
     ]
    }
   ],
   "source": [
    "A=1\n",
    "\n",
    "while A<=5:\n",
    "    print(\"*\")\n",
    "    A=A+1"
   ]
  },
  {
   "cell_type": "code",
   "execution_count": 5,
   "id": "01d4f48c",
   "metadata": {},
   "outputs": [
    {
     "name": "stdout",
     "output_type": "stream",
     "text": [
      "* * * * * "
     ]
    }
   ],
   "source": [
    "Z=1\n",
    "\n",
    "while Z<=5:\n",
    "    print(\"*\",end=\" \")\n",
    "    Z=Z+1"
   ]
  },
  {
   "cell_type": "code",
   "execution_count": 18,
   "id": "d7cb5f83",
   "metadata": {},
   "outputs": [
    {
     "name": "stdout",
     "output_type": "stream",
     "text": [
      "1 1 1 1 1 B 1 1 1 1 1 B 1 1 1 1 1 B 1 1 1 1 1 B 1 1 1 1 1 B "
     ]
    }
   ],
   "source": [
    "i=1\n",
    "\n",
    "while i<=5:\n",
    "   \n",
    "    j=1\n",
    "    while j<=5:\n",
    "        print(\"1\",end=\" \")\n",
    "        j=j+1\n",
    "    print(\"B\",end=\" \")\n",
    "    i=i+1"
   ]
  },
  {
   "cell_type": "code",
   "execution_count": 19,
   "id": "0cb52271",
   "metadata": {},
   "outputs": [
    {
     "name": "stdout",
     "output_type": "stream",
     "text": [
      "1 1 1 1 1 B\n",
      "1 1 1 1 1 B\n",
      "1 1 1 1 1 B\n",
      "1 1 1 1 1 B\n",
      "1 1 1 1 1 B\n"
     ]
    }
   ],
   "source": [
    "i=1\n",
    "\n",
    "while i<=5:\n",
    "   \n",
    "    j=1\n",
    "    while j<=5:\n",
    "        print(\"1\",end=\" \")\n",
    "        j=j+1\n",
    "    print(\"B\")\n",
    "    i=i+1"
   ]
  },
  {
   "cell_type": "code",
   "execution_count": null,
   "id": "69fb8627",
   "metadata": {},
   "outputs": [],
   "source": []
  }
 ],
 "metadata": {
  "kernelspec": {
   "display_name": "Python 3",
   "language": "python",
   "name": "python3"
  },
  "language_info": {
   "codemirror_mode": {
    "name": "ipython",
    "version": 3
   },
   "file_extension": ".py",
   "mimetype": "text/x-python",
   "name": "python",
   "nbconvert_exporter": "python",
   "pygments_lexer": "ipython3",
   "version": "3.8.8"
  }
 },
 "nbformat": 4,
 "nbformat_minor": 5
}
