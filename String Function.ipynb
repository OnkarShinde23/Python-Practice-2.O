{
 "cells": [
  {
   "cell_type": "markdown",
   "id": "c082f1ae",
   "metadata": {},
   "source": [
    "###### String\n",
    "\n",
    "String is the character or letter in program enclosed with single quote,double quote,or triple quote"
   ]
  },
  {
   "cell_type": "code",
   "execution_count": 1,
   "id": "316f9300",
   "metadata": {},
   "outputs": [],
   "source": [
    "a=\"India\""
   ]
  },
  {
   "cell_type": "code",
   "execution_count": 2,
   "id": "1a108a91",
   "metadata": {},
   "outputs": [
    {
     "data": {
      "text/plain": [
       "'India'"
      ]
     },
     "execution_count": 2,
     "metadata": {},
     "output_type": "execute_result"
    }
   ],
   "source": [
    "a"
   ]
  },
  {
   "cell_type": "code",
   "execution_count": 3,
   "id": "3b31b056",
   "metadata": {},
   "outputs": [],
   "source": [
    "z=\"Himalaya is the biggest mountain\""
   ]
  },
  {
   "cell_type": "code",
   "execution_count": 4,
   "id": "22cc80e2",
   "metadata": {},
   "outputs": [
    {
     "name": "stdout",
     "output_type": "stream",
     "text": [
      "Himal\n"
     ]
    }
   ],
   "source": [
    "print(z[0:5])"
   ]
  },
  {
   "cell_type": "code",
   "execution_count": 5,
   "id": "4c0546e6",
   "metadata": {},
   "outputs": [
    {
     "name": "stdout",
     "output_type": "stream",
     "text": [
      "laya is the biggest mountain\n"
     ]
    }
   ],
   "source": [
    "print(z[4:])"
   ]
  },
  {
   "cell_type": "code",
   "execution_count": 6,
   "id": "6c025962",
   "metadata": {},
   "outputs": [
    {
     "name": "stdout",
     "output_type": "stream",
     "text": [
      "n\n"
     ]
    }
   ],
   "source": [
    "print(z[-1:])"
   ]
  },
  {
   "cell_type": "code",
   "execution_count": 7,
   "id": "8fd597a6",
   "metadata": {},
   "outputs": [
    {
     "name": "stdout",
     "output_type": "stream",
     "text": [
      "t mountain\n"
     ]
    }
   ],
   "source": [
    "print(z[-10:])"
   ]
  },
  {
   "cell_type": "code",
   "execution_count": 8,
   "id": "1bc42da7",
   "metadata": {},
   "outputs": [
    {
     "name": "stdout",
     "output_type": "stream",
     "text": [
      "alaya is \n"
     ]
    }
   ],
   "source": [
    "print(z[3:12])"
   ]
  },
  {
   "cell_type": "markdown",
   "id": "a56eb6a1",
   "metadata": {},
   "source": [
    "###### String functions:\n",
    "    \n",
    "1) Len \n",
    "2)endswith\n",
    "3)capitalize\n",
    "4)replace\n",
    "5)count\n",
    "6)find\n"
   ]
  },
  {
   "cell_type": "code",
   "execution_count": 16,
   "id": "cf5beef2",
   "metadata": {},
   "outputs": [
    {
     "name": "stdout",
     "output_type": "stream",
     "text": [
      "32\n"
     ]
    }
   ],
   "source": [
    "print(len(z))"
   ]
  },
  {
   "cell_type": "code",
   "execution_count": 17,
   "id": "15c3ccd6",
   "metadata": {},
   "outputs": [
    {
     "data": {
      "text/plain": [
       "32"
      ]
     },
     "execution_count": 17,
     "metadata": {},
     "output_type": "execute_result"
    }
   ],
   "source": [
    "len(z)"
   ]
  },
  {
   "cell_type": "code",
   "execution_count": 18,
   "id": "a7695bdd",
   "metadata": {},
   "outputs": [
    {
     "data": {
      "text/plain": [
       "True"
      ]
     },
     "execution_count": 18,
     "metadata": {},
     "output_type": "execute_result"
    }
   ],
   "source": [
    "z.endswith(\"mountain\")"
   ]
  },
  {
   "cell_type": "code",
   "execution_count": 19,
   "id": "9f648908",
   "metadata": {},
   "outputs": [
    {
     "name": "stdout",
     "output_type": "stream",
     "text": [
      "Himalaya is the biggest mountain\n"
     ]
    }
   ],
   "source": [
    "print(z.capitalize())"
   ]
  },
  {
   "cell_type": "code",
   "execution_count": 22,
   "id": "91a51690",
   "metadata": {},
   "outputs": [
    {
     "name": "stdout",
     "output_type": "stream",
     "text": [
      "1\n"
     ]
    }
   ],
   "source": [
    "print(z.count(\"h\"))"
   ]
  },
  {
   "cell_type": "code",
   "execution_count": 24,
   "id": "33c4cfac",
   "metadata": {},
   "outputs": [
    {
     "name": "stdout",
     "output_type": "stream",
     "text": [
      "1\n"
     ]
    }
   ],
   "source": [
    "print(z.count(\"H\"))"
   ]
  },
  {
   "cell_type": "code",
   "execution_count": 25,
   "id": "1278d9b0",
   "metadata": {},
   "outputs": [
    {
     "name": "stdout",
     "output_type": "stream",
     "text": [
      "The Himalaya is the biggest mountain\n"
     ]
    }
   ],
   "source": [
    "print(z.replace(\"Himalaya\",\"The Himalaya\"))"
   ]
  },
  {
   "cell_type": "code",
   "execution_count": null,
   "id": "e13ddff8",
   "metadata": {},
   "outputs": [],
   "source": []
  }
 ],
 "metadata": {
  "kernelspec": {
   "display_name": "Python 3",
   "language": "python",
   "name": "python3"
  },
  "language_info": {
   "codemirror_mode": {
    "name": "ipython",
    "version": 3
   },
   "file_extension": ".py",
   "mimetype": "text/x-python",
   "name": "python",
   "nbconvert_exporter": "python",
   "pygments_lexer": "ipython3",
   "version": "3.8.8"
  }
 },
 "nbformat": 4,
 "nbformat_minor": 5
}
