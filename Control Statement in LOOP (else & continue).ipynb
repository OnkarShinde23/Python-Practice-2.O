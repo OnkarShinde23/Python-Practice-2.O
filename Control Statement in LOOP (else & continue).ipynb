{
 "cells": [
  {
   "cell_type": "code",
   "execution_count": 1,
   "id": "689cad42",
   "metadata": {},
   "outputs": [
    {
     "name": "stdout",
     "output_type": "stream",
     "text": [
      "1\n",
      "2\n",
      "3\n",
      "4\n",
      "5\n",
      "6\n",
      "7\n",
      "8\n"
     ]
    }
   ],
   "source": [
    "n=23\n",
    "A=1\n",
    "\n",
    "while A<=n:\n",
    "    print(A)\n",
    "    if (A==8):\n",
    "        break\n",
    "    A=A+1\n",
    "    \n",
    "else:\n",
    "    print(\"Okay\")\n",
    "    "
   ]
  },
  {
   "cell_type": "code",
   "execution_count": 2,
   "id": "52352c39",
   "metadata": {},
   "outputs": [
    {
     "name": "stdout",
     "output_type": "stream",
     "text": [
      "1\n",
      "2\n",
      "3\n",
      "4\n",
      "5\n",
      "Okay\n"
     ]
    }
   ],
   "source": [
    "n=5\n",
    "A=1\n",
    "\n",
    "while A<=n:\n",
    "    print(A)\n",
    "    if (A==8):\n",
    "        break\n",
    "    A=A+1\n",
    "    \n",
    "else:\n",
    "    print(\"Okay\")\n",
    "    "
   ]
  },
  {
   "cell_type": "markdown",
   "id": "962f499a",
   "metadata": {},
   "source": [
    "###### Continue"
   ]
  },
  {
   "cell_type": "code",
   "execution_count": 5,
   "id": "53f1f5b6",
   "metadata": {},
   "outputs": [
    {
     "name": "stdout",
     "output_type": "stream",
     "text": [
      "1\n",
      "2\n",
      "3\n",
      "4\n",
      "5\n",
      "This is Loop\n"
     ]
    }
   ],
   "source": [
    "i=1\n",
    "\n",
    "while i<=5:\n",
    "    print(i)\n",
    "    i=i+1\n",
    "    if i==3:\n",
    "        continue\n",
    "    \n",
    "else:\n",
    "    print(\"This is Loop\")"
   ]
  },
  {
   "cell_type": "code",
   "execution_count": null,
   "id": "9cb07c20",
   "metadata": {},
   "outputs": [],
   "source": []
  }
 ],
 "metadata": {
  "kernelspec": {
   "display_name": "Python 3",
   "language": "python",
   "name": "python3"
  },
  "language_info": {
   "codemirror_mode": {
    "name": "ipython",
    "version": 3
   },
   "file_extension": ".py",
   "mimetype": "text/x-python",
   "name": "python",
   "nbconvert_exporter": "python",
   "pygments_lexer": "ipython3",
   "version": "3.8.8"
  }
 },
 "nbformat": 4,
 "nbformat_minor": 5
}
