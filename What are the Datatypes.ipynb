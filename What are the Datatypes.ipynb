{
 "cells": [
  {
   "cell_type": "markdown",
   "id": "79e8ce2d",
   "metadata": {},
   "source": [
    "### Datatypes\n",
    "\n",
    "Data types means classifications or categorization of data item.\n",
    "\n",
    "There are five datatypes in Python.\n",
    "\n",
    "1.Strings \n",
    "2.Integers\n",
    "3.Float\n",
    "4.Boolen\n",
    "5.None"
   ]
  },
  {
   "cell_type": "markdown",
   "id": "5e4ccc3b",
   "metadata": {},
   "source": [
    "###### 1.Strings"
   ]
  },
  {
   "cell_type": "markdown",
   "id": "29b67487",
   "metadata": {},
   "source": [
    "It contains only letters or characters."
   ]
  },
  {
   "cell_type": "code",
   "execution_count": 3,
   "id": "a393adf5",
   "metadata": {},
   "outputs": [],
   "source": [
    "A=\"Shahrukh Khan\""
   ]
  },
  {
   "cell_type": "code",
   "execution_count": 4,
   "id": "3d631ff1",
   "metadata": {},
   "outputs": [],
   "source": [
    "B=\"Amitabh @ Bachan\""
   ]
  },
  {
   "cell_type": "code",
   "execution_count": 5,
   "id": "2102bc46",
   "metadata": {},
   "outputs": [
    {
     "data": {
      "text/plain": [
       "'Shahrukh Khan'"
      ]
     },
     "execution_count": 5,
     "metadata": {},
     "output_type": "execute_result"
    }
   ],
   "source": [
    "A"
   ]
  },
  {
   "cell_type": "code",
   "execution_count": 6,
   "id": "5dcd2254",
   "metadata": {},
   "outputs": [
    {
     "data": {
      "text/plain": [
       "'Amitabh @ Bachan'"
      ]
     },
     "execution_count": 6,
     "metadata": {},
     "output_type": "execute_result"
    }
   ],
   "source": [
    "B"
   ]
  },
  {
   "cell_type": "code",
   "execution_count": 7,
   "id": "c78144bd",
   "metadata": {},
   "outputs": [
    {
     "data": {
      "text/plain": [
       "str"
      ]
     },
     "execution_count": 7,
     "metadata": {},
     "output_type": "execute_result"
    }
   ],
   "source": [
    "type(A)"
   ]
  },
  {
   "cell_type": "code",
   "execution_count": 8,
   "id": "e64439cc",
   "metadata": {},
   "outputs": [
    {
     "data": {
      "text/plain": [
       "str"
      ]
     },
     "execution_count": 8,
     "metadata": {},
     "output_type": "execute_result"
    }
   ],
   "source": [
    "type(B)"
   ]
  },
  {
   "cell_type": "markdown",
   "id": "68a441df",
   "metadata": {},
   "source": [
    "###### 2.Integers \n",
    "\n",
    "It contains only numerical values without decimals."
   ]
  },
  {
   "cell_type": "code",
   "execution_count": 9,
   "id": "126eeb4a",
   "metadata": {},
   "outputs": [],
   "source": [
    "a=34"
   ]
  },
  {
   "cell_type": "code",
   "execution_count": 10,
   "id": "17c7b5a3",
   "metadata": {},
   "outputs": [],
   "source": [
    "d=90"
   ]
  },
  {
   "cell_type": "code",
   "execution_count": 11,
   "id": "9772a87c",
   "metadata": {},
   "outputs": [
    {
     "data": {
      "text/plain": [
       "34"
      ]
     },
     "execution_count": 11,
     "metadata": {},
     "output_type": "execute_result"
    }
   ],
   "source": [
    "a"
   ]
  },
  {
   "cell_type": "code",
   "execution_count": 12,
   "id": "cd421eff",
   "metadata": {},
   "outputs": [
    {
     "data": {
      "text/plain": [
       "90"
      ]
     },
     "execution_count": 12,
     "metadata": {},
     "output_type": "execute_result"
    }
   ],
   "source": [
    "d"
   ]
  },
  {
   "cell_type": "markdown",
   "id": "57a6039e",
   "metadata": {},
   "source": [
    "###### 3.Float\n",
    "\n",
    "It contains fractional numerical values or decimal numerical values"
   ]
  },
  {
   "cell_type": "code",
   "execution_count": 14,
   "id": "bc122430",
   "metadata": {},
   "outputs": [],
   "source": [
    "z=0.45"
   ]
  },
  {
   "cell_type": "code",
   "execution_count": 15,
   "id": "9b9faf94",
   "metadata": {},
   "outputs": [
    {
     "data": {
      "text/plain": [
       "0.45"
      ]
     },
     "execution_count": 15,
     "metadata": {},
     "output_type": "execute_result"
    }
   ],
   "source": [
    "z"
   ]
  },
  {
   "cell_type": "markdown",
   "id": "08177a30",
   "metadata": {},
   "source": [
    "###### 4.Boolen\n",
    "\n",
    "It shows only true and false values,\n",
    "if value is truely true then result is true & if value is truely false then result is false."
   ]
  },
  {
   "cell_type": "code",
   "execution_count": 17,
   "id": "6cd95ae1",
   "metadata": {},
   "outputs": [],
   "source": [
    "a=2>3"
   ]
  },
  {
   "cell_type": "code",
   "execution_count": 18,
   "id": "5fd08e25",
   "metadata": {},
   "outputs": [
    {
     "data": {
      "text/plain": [
       "False"
      ]
     },
     "execution_count": 18,
     "metadata": {},
     "output_type": "execute_result"
    }
   ],
   "source": [
    "a"
   ]
  },
  {
   "cell_type": "code",
   "execution_count": 19,
   "id": "0c4a920a",
   "metadata": {},
   "outputs": [
    {
     "data": {
      "text/plain": [
       "bool"
      ]
     },
     "execution_count": 19,
     "metadata": {},
     "output_type": "execute_result"
    }
   ],
   "source": [
    "type(a)"
   ]
  },
  {
   "cell_type": "markdown",
   "id": "0719fee5",
   "metadata": {},
   "source": [
    "###### 5.None \n",
    "\n",
    "If variable does not contains any value then result will show none. "
   ]
  },
  {
   "cell_type": "code",
   "execution_count": 27,
   "id": "a0c37367",
   "metadata": {},
   "outputs": [],
   "source": [
    "a=None"
   ]
  },
  {
   "cell_type": "code",
   "execution_count": 28,
   "id": "aeddc0b8",
   "metadata": {},
   "outputs": [],
   "source": [
    "a"
   ]
  },
  {
   "cell_type": "code",
   "execution_count": 30,
   "id": "7e10de2c",
   "metadata": {},
   "outputs": [
    {
     "data": {
      "text/plain": [
       "NoneType"
      ]
     },
     "execution_count": 30,
     "metadata": {},
     "output_type": "execute_result"
    }
   ],
   "source": [
    "type(a)"
   ]
  },
  {
   "cell_type": "code",
   "execution_count": null,
   "id": "11213505",
   "metadata": {},
   "outputs": [],
   "source": []
  }
 ],
 "metadata": {
  "kernelspec": {
   "display_name": "Python 3",
   "language": "python",
   "name": "python3"
  },
  "language_info": {
   "codemirror_mode": {
    "name": "ipython",
    "version": 3
   },
   "file_extension": ".py",
   "mimetype": "text/x-python",
   "name": "python",
   "nbconvert_exporter": "python",
   "pygments_lexer": "ipython3",
   "version": "3.8.8"
  }
 },
 "nbformat": 4,
 "nbformat_minor": 5
}
