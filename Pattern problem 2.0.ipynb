{
 "cells": [
  {
   "cell_type": "code",
   "execution_count": 1,
   "id": "c8f314d4",
   "metadata": {},
   "outputs": [
    {
     "name": "stdout",
     "output_type": "stream",
     "text": [
      "*\n",
      "*\n",
      "*\n",
      "*\n",
      "*\n"
     ]
    }
   ],
   "source": [
    "A=1\n",
    "\n",
    "while A<=5:\n",
    "    print(\"*\")\n",
    "    A=A+1"
   ]
  },
  {
   "cell_type": "code",
   "execution_count": 2,
   "id": "2766350b",
   "metadata": {},
   "outputs": [
    {
     "name": "stdout",
     "output_type": "stream",
     "text": [
      "* * * * * "
     ]
    }
   ],
   "source": [
    "Z=1\n",
    "\n",
    "while Z<=5:\n",
    "    print(\"*\",end=\" \")\n",
    "    Z=Z+1"
   ]
  },
  {
   "cell_type": "code",
   "execution_count": 3,
   "id": "9d5d3e48",
   "metadata": {},
   "outputs": [
    {
     "name": "stdout",
     "output_type": "stream",
     "text": [
      "* * * * * / * * * * * / * * * * * / * * * * * / * * * * * / "
     ]
    }
   ],
   "source": [
    "i=1\n",
    "\n",
    "while i<=5:\n",
    "   \n",
    "    j=1\n",
    "    while j<=5:\n",
    "        print(\"*\",end=\" \")\n",
    "        j=j+1\n",
    "    print(\"/\",end=\" \")\n",
    "    i=i+1"
   ]
  },
  {
   "cell_type": "code",
   "execution_count": 4,
   "id": "776e6b96",
   "metadata": {},
   "outputs": [
    {
     "name": "stdout",
     "output_type": "stream",
     "text": [
      "* * * * * * * * * * * * * * * * * * * * /\n",
      "* * * * * * * * * * * * * * * * * * * * /\n",
      "* * * * * * * * * * * * * * * * * * * * /\n",
      "* * * * * * * * * * * * * * * * * * * * /\n",
      "* * * * * * * * * * * * * * * * * * * * /\n"
     ]
    }
   ],
   "source": [
    "i=1\n",
    "\n",
    "while i<=5:\n",
    "   \n",
    "    j=1\n",
    "    while j<=20:\n",
    "        print(\"*\",end=\" \")\n",
    "        j=j+1\n",
    "    print(\"/\")\n",
    "    i=i+1"
   ]
  },
  {
   "cell_type": "code",
   "execution_count": 15,
   "id": "9d10e8bf",
   "metadata": {},
   "outputs": [
    {
     "name": "stdout",
     "output_type": "stream",
     "text": [
      "1\n",
      "0 1 2\n",
      "0 1 2 3\n",
      "0 1 2 3 4\n",
      "0 1 2 3 4 5\n",
      "0 1 2 3 4 5 "
     ]
    }
   ],
   "source": [
    "x=1\n",
    "\n",
    "while x<=5:\n",
    "    print(x)\n",
    "    x=x+1\n",
    "    y=0\n",
    "    while y<x:\n",
    "        print(y,end=\" \")\n",
    "        y=y+1\n",
    "        "
   ]
  },
  {
   "cell_type": "code",
   "execution_count": 22,
   "id": "bb473e77",
   "metadata": {},
   "outputs": [
    {
     "name": "stdout",
     "output_type": "stream",
     "text": [
      "\n",
      "* \n",
      "* * \n",
      "* * * \n",
      "* * * * \n",
      "* * * * * "
     ]
    }
   ],
   "source": [
    "x=1\n",
    "\n",
    "while x<=5:\n",
    "    print()\n",
    "    x=x+1\n",
    "    y=2\n",
    "    while y<=x:\n",
    "        print(\"*\",end=\" \")\n",
    "        y=y+1\n",
    "        "
   ]
  },
  {
   "cell_type": "code",
   "execution_count": 28,
   "id": "bb96308e",
   "metadata": {},
   "outputs": [
    {
     "name": "stdout",
     "output_type": "stream",
     "text": [
      "*\n",
      "7 7 7 7 7 *\n",
      "7 7 7 7 *\n",
      "7 7 7 *\n",
      "7 7 *\n",
      "7 "
     ]
    }
   ],
   "source": [
    "M=1\n",
    "\n",
    "while M<=5:\n",
    "    print(\"*\")\n",
    "    M=M+1\n",
    "    N=1\n",
    "    while N<=7-M:\n",
    "        print(\"7\",end=\" \")\n",
    "        N=N+1"
   ]
  },
  {
   "cell_type": "code",
   "execution_count": null,
   "id": "6b039a4e",
   "metadata": {},
   "outputs": [],
   "source": []
  }
 ],
 "metadata": {
  "kernelspec": {
   "display_name": "Python 3",
   "language": "python",
   "name": "python3"
  },
  "language_info": {
   "codemirror_mode": {
    "name": "ipython",
    "version": 3
   },
   "file_extension": ".py",
   "mimetype": "text/x-python",
   "name": "python",
   "nbconvert_exporter": "python",
   "pygments_lexer": "ipython3",
   "version": "3.8.8"
  }
 },
 "nbformat": 4,
 "nbformat_minor": 5
}
