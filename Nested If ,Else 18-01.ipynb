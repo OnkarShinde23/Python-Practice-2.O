{
 "cells": [
  {
   "cell_type": "raw",
   "id": "17a08662",
   "metadata": {},
   "source": [
    "Syntax of If,else\n",
    "\n",
    "If (Condition):\n",
    "   (Statement)\n",
    "else:\n",
    "   (Statement)"
   ]
  },
  {
   "cell_type": "raw",
   "id": "91adfee9",
   "metadata": {},
   "source": [
    "Syntax of If,elif & else\n",
    "\n",
    "if (Condition):\n",
    "   (Statement)\n",
    "elif(Condition):\n",
    "   (Statement)\n",
    "elif(Condition):\n",
    "   (Statement)\n",
    "else:\n",
    "   (Statement)"
   ]
  },
  {
   "cell_type": "raw",
   "id": "42e3a41c",
   "metadata": {},
   "source": [
    "Syntax of Nested If,elif & else\n",
    "\n",
    "if(Condition):\n",
    "    (Statement)\n",
    "    if(Condition):\n",
    "        (Statement)\n",
    "    else(Condition):\n",
    "        (Statement)\n",
    "elif(another condition):\n",
    "    if(Condition):\n",
    "        (Statement)\n",
    "    else(Condition):\n",
    "        (Statement)\n",
    "else:\n",
    "    (Statement)"
   ]
  },
  {
   "cell_type": "code",
   "execution_count": 6,
   "id": "d250df58",
   "metadata": {},
   "outputs": [
    {
     "name": "stdout",
     "output_type": "stream",
     "text": [
      "enter a number : 5\n",
      "A is positive\n"
     ]
    }
   ],
   "source": [
    "A=float(input(\"enter a number : \"))\n",
    "\n",
    "if A>=0:\n",
    "    if A==0:\n",
    "        print(\"A is equal to Zero\")\n",
    "    else:\n",
    "        print(\"A is positive\")\n",
    "else:\n",
    "    print(\"A is a negative number\")\n",
    "    "
   ]
  },
  {
   "cell_type": "code",
   "execution_count": null,
   "id": "d6b2af7b",
   "metadata": {},
   "outputs": [],
   "source": []
  }
 ],
 "metadata": {
  "kernelspec": {
   "display_name": "Python 3",
   "language": "python",
   "name": "python3"
  },
  "language_info": {
   "codemirror_mode": {
    "name": "ipython",
    "version": 3
   },
   "file_extension": ".py",
   "mimetype": "text/x-python",
   "name": "python",
   "nbconvert_exporter": "python",
   "pygments_lexer": "ipython3",
   "version": "3.8.8"
  }
 },
 "nbformat": 4,
 "nbformat_minor": 5
}
