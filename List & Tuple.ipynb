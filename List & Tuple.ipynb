{
 "cells": [
  {
   "cell_type": "markdown",
   "id": "2bb3a597",
   "metadata": {},
   "source": [
    "###### List\n",
    "\n",
    "List is the collection of items uses to store data.\n",
    "List are the mutuable,means it can be change after creation.\n",
    "It enclosed with square bracket and elements seperated by coma"
   ]
  },
  {
   "cell_type": "code",
   "execution_count": 4,
   "id": "775bd0e4",
   "metadata": {},
   "outputs": [],
   "source": [
    "A=[12,'Shankar',\"Mumbai\",123,9999,34,'''Cricket''']"
   ]
  },
  {
   "cell_type": "code",
   "execution_count": 5,
   "id": "bbd7e228",
   "metadata": {},
   "outputs": [
    {
     "data": {
      "text/plain": [
       "[12, 'Shankar', 'Mumbai', 123, 9999, 34, 'Cricket']"
      ]
     },
     "execution_count": 5,
     "metadata": {},
     "output_type": "execute_result"
    }
   ],
   "source": [
    "A"
   ]
  },
  {
   "cell_type": "code",
   "execution_count": 6,
   "id": "a9478a25",
   "metadata": {},
   "outputs": [
    {
     "name": "stdout",
     "output_type": "stream",
     "text": [
      "9999\n"
     ]
    }
   ],
   "source": [
    "print(A[4])"
   ]
  },
  {
   "cell_type": "code",
   "execution_count": 7,
   "id": "88b28119",
   "metadata": {},
   "outputs": [
    {
     "name": "stdout",
     "output_type": "stream",
     "text": [
      "Cricket\n"
     ]
    }
   ],
   "source": [
    "print(A[6])"
   ]
  },
  {
   "cell_type": "code",
   "execution_count": 8,
   "id": "517399c6",
   "metadata": {},
   "outputs": [],
   "source": [
    "B=[111,78,45,23,44,98,555]"
   ]
  },
  {
   "cell_type": "code",
   "execution_count": 9,
   "id": "d7d57bd9",
   "metadata": {},
   "outputs": [
    {
     "name": "stdout",
     "output_type": "stream",
     "text": [
      "[111, 78, 45, 23, 44, 98, 555]\n"
     ]
    }
   ],
   "source": [
    "print(B)"
   ]
  },
  {
   "cell_type": "code",
   "execution_count": 11,
   "id": "a268fd83",
   "metadata": {},
   "outputs": [
    {
     "data": {
      "text/plain": [
       "6"
      ]
     },
     "execution_count": 11,
     "metadata": {},
     "output_type": "execute_result"
    }
   ],
   "source": [
    "B.index(555)"
   ]
  },
  {
   "cell_type": "code",
   "execution_count": 12,
   "id": "7519cbd4",
   "metadata": {},
   "outputs": [
    {
     "data": {
      "text/plain": [
       "5"
      ]
     },
     "execution_count": 12,
     "metadata": {},
     "output_type": "execute_result"
    }
   ],
   "source": [
    "B.index(98)"
   ]
  },
  {
   "cell_type": "code",
   "execution_count": 13,
   "id": "e46fba63",
   "metadata": {},
   "outputs": [
    {
     "data": {
      "text/plain": [
       "0"
      ]
     },
     "execution_count": 13,
     "metadata": {},
     "output_type": "execute_result"
    }
   ],
   "source": [
    "B.index(111)"
   ]
  },
  {
   "cell_type": "code",
   "execution_count": 14,
   "id": "c61993e6",
   "metadata": {},
   "outputs": [
    {
     "data": {
      "text/plain": [
       "1"
      ]
     },
     "execution_count": 14,
     "metadata": {},
     "output_type": "execute_result"
    }
   ],
   "source": [
    "B.count(44)"
   ]
  },
  {
   "cell_type": "code",
   "execution_count": 15,
   "id": "ec90b464",
   "metadata": {},
   "outputs": [],
   "source": [
    "B.reverse()"
   ]
  },
  {
   "cell_type": "code",
   "execution_count": 16,
   "id": "ea5cf995",
   "metadata": {},
   "outputs": [
    {
     "data": {
      "text/plain": [
       "[555, 98, 44, 23, 45, 78, 111]"
      ]
     },
     "execution_count": 16,
     "metadata": {},
     "output_type": "execute_result"
    }
   ],
   "source": [
    "B"
   ]
  },
  {
   "cell_type": "code",
   "execution_count": 17,
   "id": "6c47706a",
   "metadata": {},
   "outputs": [],
   "source": [
    "A.extend(B)"
   ]
  },
  {
   "cell_type": "code",
   "execution_count": 18,
   "id": "b93e7e36",
   "metadata": {},
   "outputs": [
    {
     "data": {
      "text/plain": [
       "[12,\n",
       " 'Shankar',\n",
       " 'Mumbai',\n",
       " 123,\n",
       " 9999,\n",
       " 34,\n",
       " 'Cricket',\n",
       " 555,\n",
       " 98,\n",
       " 44,\n",
       " 23,\n",
       " 45,\n",
       " 78,\n",
       " 111]"
      ]
     },
     "execution_count": 18,
     "metadata": {},
     "output_type": "execute_result"
    }
   ],
   "source": [
    "A"
   ]
  },
  {
   "cell_type": "code",
   "execution_count": 19,
   "id": "1b8c705b",
   "metadata": {},
   "outputs": [
    {
     "data": {
      "text/plain": [
       "13"
      ]
     },
     "execution_count": 19,
     "metadata": {},
     "output_type": "execute_result"
    }
   ],
   "source": [
    "A.index(111)"
   ]
  },
  {
   "cell_type": "code",
   "execution_count": 20,
   "id": "ea0a50e8",
   "metadata": {},
   "outputs": [
    {
     "data": {
      "text/plain": [
       "78"
      ]
     },
     "execution_count": 20,
     "metadata": {},
     "output_type": "execute_result"
    }
   ],
   "source": [
    "A[12]"
   ]
  },
  {
   "cell_type": "code",
   "execution_count": 43,
   "id": "0fbcfd16",
   "metadata": {},
   "outputs": [],
   "source": [
    "A.extend(B)"
   ]
  },
  {
   "cell_type": "code",
   "execution_count": 44,
   "id": "114c9530",
   "metadata": {},
   "outputs": [
    {
     "data": {
      "text/plain": [
       "[12,\n",
       " 'Shankar',\n",
       " 'Mumbai',\n",
       " 123,\n",
       " 9999,\n",
       " 34,\n",
       " 'Cricket',\n",
       " 555,\n",
       " 98,\n",
       " 44,\n",
       " 23,\n",
       " 45,\n",
       " 78,\n",
       " 111,\n",
       " 555,\n",
       " 98,\n",
       " 44,\n",
       " 23,\n",
       " 45,\n",
       " 78,\n",
       " 111,\n",
       " 555,\n",
       " 98,\n",
       " 44,\n",
       " 23,\n",
       " 45,\n",
       " 78,\n",
       " 111,\n",
       " 555,\n",
       " 98,\n",
       " 44,\n",
       " 23,\n",
       " 45,\n",
       " 78,\n",
       " 111]"
      ]
     },
     "execution_count": 44,
     "metadata": {},
     "output_type": "execute_result"
    }
   ],
   "source": [
    "A"
   ]
  },
  {
   "cell_type": "code",
   "execution_count": 46,
   "id": "30cfc99d",
   "metadata": {},
   "outputs": [
    {
     "data": {
      "text/plain": [
       "['Shankar', 'Mumbai', 123, 9999]"
      ]
     },
     "execution_count": 46,
     "metadata": {},
     "output_type": "execute_result"
    }
   ],
   "source": [
    "A[1:5]"
   ]
  },
  {
   "cell_type": "code",
   "execution_count": 47,
   "id": "d9356541",
   "metadata": {},
   "outputs": [
    {
     "data": {
      "text/plain": [
       "[12,\n",
       " 'Shankar',\n",
       " 'Mumbai',\n",
       " 123,\n",
       " 9999,\n",
       " 34,\n",
       " 'Cricket',\n",
       " 555,\n",
       " 98,\n",
       " 44,\n",
       " 23,\n",
       " 45,\n",
       " 78,\n",
       " 111,\n",
       " 555,\n",
       " 98,\n",
       " 44,\n",
       " 23,\n",
       " 45,\n",
       " 78,\n",
       " 111,\n",
       " 555,\n",
       " 98,\n",
       " 44,\n",
       " 23,\n",
       " 45,\n",
       " 78,\n",
       " 111,\n",
       " 555,\n",
       " 98,\n",
       " 44,\n",
       " 23,\n",
       " 45,\n",
       " 78,\n",
       " 111]"
      ]
     },
     "execution_count": 47,
     "metadata": {},
     "output_type": "execute_result"
    }
   ],
   "source": [
    "A[0:]"
   ]
  },
  {
   "cell_type": "code",
   "execution_count": 48,
   "id": "8b910f89",
   "metadata": {},
   "outputs": [
    {
     "data": {
      "text/plain": [
       "[12, 'Mumbai', 9999, 'Cricket', 98, 23, 78, 555]"
      ]
     },
     "execution_count": 48,
     "metadata": {},
     "output_type": "execute_result"
    }
   ],
   "source": [
    "A[0:15:2]"
   ]
  },
  {
   "cell_type": "code",
   "execution_count": 49,
   "id": "2248f675",
   "metadata": {},
   "outputs": [
    {
     "data": {
      "text/plain": [
       "98"
      ]
     },
     "execution_count": 49,
     "metadata": {},
     "output_type": "execute_result"
    }
   ],
   "source": [
    "A[15]"
   ]
  },
  {
   "cell_type": "markdown",
   "id": "875743c1",
   "metadata": {},
   "source": [
    "###### Tuple\n",
    "\n",
    "Tuple is the collection of items,uses to store the data.\n",
    "Tuples are immutable ,means it can not be changed after creation,\n",
    "Tuples are enclosed with normal paranthesis and seperated by comma."
   ]
  },
  {
   "cell_type": "code",
   "execution_count": 25,
   "id": "b77f700a",
   "metadata": {},
   "outputs": [],
   "source": [
    "Z=(\"Maharashtra\",\"Gujarat\",\"Bihar\",\"UP\",\"Kerala\",1,3,4,5)"
   ]
  },
  {
   "cell_type": "code",
   "execution_count": 26,
   "id": "5e402628",
   "metadata": {},
   "outputs": [
    {
     "name": "stdout",
     "output_type": "stream",
     "text": [
      "('Maharashtra', 'Gujarat', 'Bihar', 'UP', 'Kerala', 1, 3, 4, 5)\n"
     ]
    }
   ],
   "source": [
    "print(Z)"
   ]
  },
  {
   "cell_type": "code",
   "execution_count": 27,
   "id": "bffe8a79",
   "metadata": {},
   "outputs": [
    {
     "data": {
      "text/plain": [
       "('Maharashtra', 'Gujarat', 'Bihar', 'UP', 'Kerala', 1, 3, 4, 5)"
      ]
     },
     "execution_count": 27,
     "metadata": {},
     "output_type": "execute_result"
    }
   ],
   "source": [
    "Z"
   ]
  },
  {
   "cell_type": "code",
   "execution_count": 28,
   "id": "8cf05130",
   "metadata": {},
   "outputs": [
    {
     "data": {
      "text/plain": [
       "'UP'"
      ]
     },
     "execution_count": 28,
     "metadata": {},
     "output_type": "execute_result"
    }
   ],
   "source": [
    "Z[3]"
   ]
  },
  {
   "cell_type": "code",
   "execution_count": 29,
   "id": "5d85c18b",
   "metadata": {},
   "outputs": [
    {
     "data": {
      "text/plain": [
       "4"
      ]
     },
     "execution_count": 29,
     "metadata": {},
     "output_type": "execute_result"
    }
   ],
   "source": [
    "Z[7]"
   ]
  },
  {
   "cell_type": "code",
   "execution_count": 30,
   "id": "726c98bb",
   "metadata": {},
   "outputs": [
    {
     "data": {
      "text/plain": [
       "8"
      ]
     },
     "execution_count": 30,
     "metadata": {},
     "output_type": "execute_result"
    }
   ],
   "source": [
    "Z.index(5)"
   ]
  },
  {
   "cell_type": "code",
   "execution_count": 32,
   "id": "a921bc22",
   "metadata": {},
   "outputs": [
    {
     "data": {
      "text/plain": [
       "'UP'"
      ]
     },
     "execution_count": 32,
     "metadata": {},
     "output_type": "execute_result"
    }
   ],
   "source": [
    "Z[-6]"
   ]
  },
  {
   "cell_type": "code",
   "execution_count": 33,
   "id": "05880b25",
   "metadata": {},
   "outputs": [],
   "source": [
    "Y=(23,44,123,423,78)"
   ]
  },
  {
   "cell_type": "code",
   "execution_count": 34,
   "id": "6fc7d259",
   "metadata": {},
   "outputs": [
    {
     "data": {
      "text/plain": [
       "(23, 44, 123, 423, 78)"
      ]
     },
     "execution_count": 34,
     "metadata": {},
     "output_type": "execute_result"
    }
   ],
   "source": [
    "Y"
   ]
  },
  {
   "cell_type": "code",
   "execution_count": 35,
   "id": "54ecacdb",
   "metadata": {},
   "outputs": [
    {
     "ename": "AttributeError",
     "evalue": "'tuple' object has no attribute 'extend'",
     "output_type": "error",
     "traceback": [
      "\u001b[1;31m---------------------------------------------------------------------------\u001b[0m",
      "\u001b[1;31mAttributeError\u001b[0m                            Traceback (most recent call last)",
      "\u001b[1;32m<ipython-input-35-2e0e0e7c48ec>\u001b[0m in \u001b[0;36m<module>\u001b[1;34m\u001b[0m\n\u001b[1;32m----> 1\u001b[1;33m \u001b[0mZ\u001b[0m\u001b[1;33m.\u001b[0m\u001b[0mextend\u001b[0m\u001b[1;33m(\u001b[0m\u001b[0mY\u001b[0m\u001b[1;33m)\u001b[0m\u001b[1;33m\u001b[0m\u001b[1;33m\u001b[0m\u001b[0m\n\u001b[0m",
      "\u001b[1;31mAttributeError\u001b[0m: 'tuple' object has no attribute 'extend'"
     ]
    }
   ],
   "source": [
    "Z.extend(Y)"
   ]
  },
  {
   "cell_type": "code",
   "execution_count": 37,
   "id": "a3aab334",
   "metadata": {},
   "outputs": [
    {
     "ename": "AttributeError",
     "evalue": "'tuple' object has no attribute 'extend'",
     "output_type": "error",
     "traceback": [
      "\u001b[1;31m---------------------------------------------------------------------------\u001b[0m",
      "\u001b[1;31mAttributeError\u001b[0m                            Traceback (most recent call last)",
      "\u001b[1;32m<ipython-input-37-2e0e0e7c48ec>\u001b[0m in \u001b[0;36m<module>\u001b[1;34m\u001b[0m\n\u001b[1;32m----> 1\u001b[1;33m \u001b[0mZ\u001b[0m\u001b[1;33m.\u001b[0m\u001b[0mextend\u001b[0m\u001b[1;33m(\u001b[0m\u001b[0mY\u001b[0m\u001b[1;33m)\u001b[0m\u001b[1;33m\u001b[0m\u001b[1;33m\u001b[0m\u001b[0m\n\u001b[0m",
      "\u001b[1;31mAttributeError\u001b[0m: 'tuple' object has no attribute 'extend'"
     ]
    }
   ],
   "source": [
    "Z.extend(Y)"
   ]
  },
  {
   "cell_type": "code",
   "execution_count": 39,
   "id": "4c407246",
   "metadata": {},
   "outputs": [
    {
     "ename": "AttributeError",
     "evalue": "'tuple' object has no attribute 'append'",
     "output_type": "error",
     "traceback": [
      "\u001b[1;31m---------------------------------------------------------------------------\u001b[0m",
      "\u001b[1;31mAttributeError\u001b[0m                            Traceback (most recent call last)",
      "\u001b[1;32m<ipython-input-39-8063d60da63e>\u001b[0m in \u001b[0;36m<module>\u001b[1;34m\u001b[0m\n\u001b[1;32m----> 1\u001b[1;33m \u001b[0mZ\u001b[0m\u001b[1;33m.\u001b[0m\u001b[0mappend\u001b[0m\u001b[1;33m(\u001b[0m\u001b[0mY\u001b[0m\u001b[1;33m)\u001b[0m\u001b[1;33m\u001b[0m\u001b[1;33m\u001b[0m\u001b[0m\n\u001b[0m",
      "\u001b[1;31mAttributeError\u001b[0m: 'tuple' object has no attribute 'append'"
     ]
    }
   ],
   "source": [
    "Z.append(Y)"
   ]
  },
  {
   "cell_type": "code",
   "execution_count": 40,
   "id": "96ec8ec3",
   "metadata": {},
   "outputs": [
    {
     "ename": "AttributeError",
     "evalue": "'tuple' object has no attribute 'reverse'",
     "output_type": "error",
     "traceback": [
      "\u001b[1;31m---------------------------------------------------------------------------\u001b[0m",
      "\u001b[1;31mAttributeError\u001b[0m                            Traceback (most recent call last)",
      "\u001b[1;32m<ipython-input-40-6b09ae107775>\u001b[0m in \u001b[0;36m<module>\u001b[1;34m\u001b[0m\n\u001b[1;32m----> 1\u001b[1;33m \u001b[0mZ\u001b[0m\u001b[1;33m.\u001b[0m\u001b[0mreverse\u001b[0m\u001b[1;33m\u001b[0m\u001b[1;33m\u001b[0m\u001b[0m\n\u001b[0m",
      "\u001b[1;31mAttributeError\u001b[0m: 'tuple' object has no attribute 'reverse'"
     ]
    }
   ],
   "source": [
    "Z.reverse"
   ]
  },
  {
   "cell_type": "markdown",
   "id": "b68d54b9",
   "metadata": {},
   "source": [
    "### Means Tuples are immutable"
   ]
  },
  {
   "cell_type": "code",
   "execution_count": null,
   "id": "2e9b4e1b",
   "metadata": {},
   "outputs": [],
   "source": []
  }
 ],
 "metadata": {
  "kernelspec": {
   "display_name": "Python 3",
   "language": "python",
   "name": "python3"
  },
  "language_info": {
   "codemirror_mode": {
    "name": "ipython",
    "version": 3
   },
   "file_extension": ".py",
   "mimetype": "text/x-python",
   "name": "python",
   "nbconvert_exporter": "python",
   "pygments_lexer": "ipython3",
   "version": "3.8.8"
  }
 },
 "nbformat": 4,
 "nbformat_minor": 5
}
