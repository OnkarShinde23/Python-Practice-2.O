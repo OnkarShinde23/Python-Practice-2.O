{
 "cells": [
  {
   "cell_type": "code",
   "execution_count": 1,
   "id": "6e74399f",
   "metadata": {},
   "outputs": [
    {
     "name": "stdout",
     "output_type": "stream",
     "text": [
      "Red -> Apple\n",
      "Red -> Banana\n",
      "Blue -> Apple\n",
      "Blue -> Banana\n"
     ]
    }
   ],
   "source": [
    "for i in ['Red','Blue']:\n",
    "    for j in ['Apple','Banana']:\n",
    "        print(i,'->',j)"
   ]
  },
  {
   "cell_type": "markdown",
   "id": "0825f777",
   "metadata": {},
   "source": [
    "### Pattern problems"
   ]
  },
  {
   "cell_type": "code",
   "execution_count": 2,
   "id": "3564c4a8",
   "metadata": {},
   "outputs": [
    {
     "name": "stdout",
     "output_type": "stream",
     "text": [
      "*\n",
      "*\n",
      "*\n",
      "*\n",
      "*\n"
     ]
    }
   ],
   "source": [
    "for a in range (1,6):\n",
    "    print('*')"
   ]
  },
  {
   "cell_type": "code",
   "execution_count": 3,
   "id": "f68e1c84",
   "metadata": {},
   "outputs": [
    {
     "name": "stdout",
     "output_type": "stream",
     "text": [
      "* * * * * "
     ]
    }
   ],
   "source": [
    "for a in range (1,6):\n",
    "    print('*',end=' ')"
   ]
  },
  {
   "cell_type": "code",
   "execution_count": 4,
   "id": "dce0086e",
   "metadata": {},
   "outputs": [
    {
     "name": "stdout",
     "output_type": "stream",
     "text": [
      "* \n",
      "* * \n",
      "* * * \n",
      "* * * * \n",
      "* * * * * \n"
     ]
    }
   ],
   "source": [
    "for a in range (1,6):\n",
    "    for k in range (1,a+1):\n",
    "        print('*',end=\" \")\n",
    "    print()"
   ]
  },
  {
   "cell_type": "code",
   "execution_count": 6,
   "id": "b6fb9170",
   "metadata": {},
   "outputs": [
    {
     "name": "stdout",
     "output_type": "stream",
     "text": [
      "* * * * * \n",
      "* * * * \n",
      "* * * \n",
      "* * \n",
      "* \n"
     ]
    }
   ],
   "source": [
    "for H in range (1,6):\n",
    "    for M in range (1,6-H+1):\n",
    "        print(\"*\",end=' ')\n",
    "    print()"
   ]
  },
  {
   "cell_type": "code",
   "execution_count": 8,
   "id": "570b2f42",
   "metadata": {},
   "outputs": [
    {
     "name": "stdout",
     "output_type": "stream",
     "text": [
      "1   \n",
      "2   3   \n",
      "4   5   6   \n",
      "7   8   9   10   \n",
      "11   12   13   14   15   \n"
     ]
    }
   ],
   "source": [
    "Q=1\n",
    "\n",
    "for Z in range (1,6):\n",
    "    for W in range (1,Z+1):\n",
    "        print(Q,' ',end=' ')\n",
    "        Q=Q+1\n",
    "    print()"
   ]
  },
  {
   "cell_type": "code",
   "execution_count": null,
   "id": "229f23a5",
   "metadata": {},
   "outputs": [],
   "source": []
  }
 ],
 "metadata": {
  "kernelspec": {
   "display_name": "Python 3",
   "language": "python",
   "name": "python3"
  },
  "language_info": {
   "codemirror_mode": {
    "name": "ipython",
    "version": 3
   },
   "file_extension": ".py",
   "mimetype": "text/x-python",
   "name": "python",
   "nbconvert_exporter": "python",
   "pygments_lexer": "ipython3",
   "version": "3.8.8"
  }
 },
 "nbformat": 4,
 "nbformat_minor": 5
}
